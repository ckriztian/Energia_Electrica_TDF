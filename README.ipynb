{
 "cells": [
  {
   "cell_type": "markdown",
   "metadata": {},
   "source": [
    "![Energía_Eléctrica_TDF](/reports/figures/banner_flat1.jpg)\n",
    "### Tecnicatura Superior en Ciencia de Datos e Inteligencia Artificial\n",
    "___\n",
    "### Aprendizaje Automático: \"Predicción del consumo de Energía Eléctrica en TDF\"\n",
    "___\n",
    "### *Objetivo del Modelo*\n",
    "El principal objetivo de este modelo de Aprendizaje Automático es predecir el consumo total de energía eléctrica en la provincia de Tierra del Fuego según el tipo de usuario y el periodo de tiempo. Esta predicción ayudará a las autoridades y empresas energéticas locales a prever fluctuaciones en la demanda y a tomar decisiones más informadas sobre la generación, compra o importación de energía.\n",
    "___\n",
    "### *Contexto y Relevancia*\n",
    "Tierra del Fuego es una de las provincias más australes del mundo, lo que implica condiciones climáticas adversas durante gran parte del año, con inviernos fríos y largos. Estas condiciones generan una demanda energética elevada, especialmente en el ámbito residencial, para calefacción y otros servicios esenciales. A pesar de tener una población relativamente pequeña en comparación con otras provincias argentinas, la alta variabilidad climática y la expansión de la infraestructura local hacen que el manejo del consumo energético sea crucial para el bienestar de sus habitantes y para la sostenibilidad económica de la región.\n",
    "\n",
    "Además, la provincia posee un perfil económico orientado a la industria manufacturera, con grandes y medianas demandas energéticas en fábricas y empresas de servicios, lo cual contribuye a la complejidad del problema energético. Dado que Tierra del Fuego está aislada del sistema interconectado nacional, su capacidad de generación y distribución eléctrica debe ser cuidadosamente administrada para evitar costos adicionales o el riesgo de cortes energéticos.\n",
    "\n",
    "Relevancia Local y Motivación La elección de este problema se debe a su relevancia estratégica para la región. La optimización del consumo energético no solo tiene un impacto directo en el costo operativo para industrias y usuarios residenciales, sino que también puede ayudar a las autoridades locales a planificar de manera más eficiente la distribución de la energía. Esto es particularmente importante en una provincia donde la energía tiene un costo elevado debido a su lejanía de los principales centros de generación del país.\n",
    "___\n",
    "### *Preguntas de Investigación:*\n",
    "- ¿Es posible predecir con precisión el consumo de energía eléctrica en Tierra del Fuego utilizando técnicas de aprendizaje automático?\n",
    "- ¿Qué características, como tipo de usuario y periodo tienen mayor impacto en el consumo de energía eléctrica?  \n",
    "- ¿Existen tendencias de crecimiento o decrecimiento en el consumo energético a lo largo de los años?\n",
    "- ¿Cuál es el rendimiento comparativo de diferentes algoritmos de aprendizaje automático en la predicción de consumo de energía eléctrica por tipo de usuario?\n",
    "___\n",
    "### *Descripción del Dataset y Origen*\n",
    "Para una descripción detallada del dataset, incluyendo la cantidad de instancias, características (columnas), tipos de datos, y el origen del dataset, consultar el siguiente link:\n",
    " [Descripción y características del Dataset](https://github.com/ckriztian/Energia_Electrica_TDF/blob/main/docs/README.md) \n",
    "___\n",
    "### Autores y Reconocimientos\n",
    "- **Vera Quijano Cristian E.** - Desarrollador Principal - (https://github.com/ckriztian/)\n",
    "- **Mirabete Martin** - Docente y asesor del proyecto\n"
   ]
  }
 ],
 "metadata": {
  "language_info": {
   "name": "python"
  }
 },
 "nbformat": 4,
 "nbformat_minor": 2
}
