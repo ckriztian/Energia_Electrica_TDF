{
 "cells": [
  {
   "cell_type": "code",
   "execution_count": 2,
   "id": "6f11905a-2560-4ab2-b2ca-b8fe9a5b1e10",
   "metadata": {},
   "outputs": [],
   "source": [
    "import pandas as pd\n",
    "import numpy as np\n",
    "import matplotlib.pyplot as plt\n",
    "import seaborn as sb\n",
    "%matplotlib inline"
   ]
  },
  {
   "cell_type": "markdown",
   "id": "a943814e-b3c4-491e-8f9e-65b2bae46d19",
   "metadata": {},
   "source": [
    "# Carga de Datos"
   ]
  },
  {
   "cell_type": "code",
   "execution_count": 4,
   "id": "c9c20872-dff2-4783-969d-dac0faceb812",
   "metadata": {},
   "outputs": [],
   "source": [
    "dataframe = pd.read_excel(\"../data/raw/15_3_01_Energia_electrica_consumida_por_tipo_usuario-5.xlsx\", sheet_name=\"Total TDF\", header=3)"
   ]
  },
  {
   "cell_type": "markdown",
   "id": "e6b5bd3c-4e4d-40e1-9ae9-50ce6300c5c9",
   "metadata": {},
   "source": [
    "# Exploración inicial de datos))"
   ]
  },
  {
   "cell_type": "code",
   "execution_count": 6,
   "id": "0fbd0a3a-4a51-4f69-ad8e-bb096a82af40",
   "metadata": {},
   "outputs": [
    {
     "name": "stdout",
     "output_type": "stream",
     "text": [
      "Cantidad de instancias: 182\n",
      "Cantidad de columnas: 8\n"
     ]
    }
   ],
   "source": [
    "# Visualización  de cantidad de instancias y columnas.\n",
    "num_instancias, num_columnas = dataframe.shape\n",
    "print(f'Cantidad de instancias: {num_instancias}')\n",
    "print(f'Cantidad de columnas: {num_columnas}')"
   ]
  },
  {
   "cell_type": "code",
   "execution_count": 8,
   "id": "57a77068-74df-44ac-831f-e47afb7aec48",
   "metadata": {},
   "outputs": [
    {
     "data": {
      "text/html": [
       "<div>\n",
       "<style scoped>\n",
       "    .dataframe tbody tr th:only-of-type {\n",
       "        vertical-align: middle;\n",
       "    }\n",
       "\n",
       "    .dataframe tbody tr th {\n",
       "        vertical-align: top;\n",
       "    }\n",
       "\n",
       "    .dataframe thead th {\n",
       "        text-align: right;\n",
       "    }\n",
       "</style>\n",
       "<table border=\"1\" class=\"dataframe\">\n",
       "  <thead>\n",
       "    <tr style=\"text-align: right;\">\n",
       "      <th></th>\n",
       "      <th>Unnamed: 0</th>\n",
       "      <th>Período</th>\n",
       "      <th>Total</th>\n",
       "      <th>Grandes \\nDemandas</th>\n",
       "      <th>Medianas \\nDemandas</th>\n",
       "      <th>Uso\\n Residencial</th>\n",
       "      <th>Uso \\nGeneral</th>\n",
       "      <th>Alumbrado \\nPúblico</th>\n",
       "    </tr>\n",
       "  </thead>\n",
       "  <tbody>\n",
       "    <tr>\n",
       "      <th>0</th>\n",
       "      <td>NaN</td>\n",
       "      <td>NaN</td>\n",
       "      <td>kWh</td>\n",
       "      <td>NaN</td>\n",
       "      <td>NaN</td>\n",
       "      <td>NaN</td>\n",
       "      <td>NaN</td>\n",
       "      <td>NaN</td>\n",
       "    </tr>\n",
       "    <tr>\n",
       "      <th>1</th>\n",
       "      <td>NaN</td>\n",
       "      <td>NaN</td>\n",
       "      <td>NaN</td>\n",
       "      <td>NaN</td>\n",
       "      <td>NaN</td>\n",
       "      <td>NaN</td>\n",
       "      <td>NaN</td>\n",
       "      <td>NaN</td>\n",
       "    </tr>\n",
       "    <tr>\n",
       "      <th>2</th>\n",
       "      <td>2010</td>\n",
       "      <td>Enero</td>\n",
       "      <td>28389813</td>\n",
       "      <td>14295431</td>\n",
       "      <td>1895533</td>\n",
       "      <td>8505506</td>\n",
       "      <td>2752545</td>\n",
       "      <td>940798</td>\n",
       "    </tr>\n",
       "    <tr>\n",
       "      <th>3</th>\n",
       "      <td>NaN</td>\n",
       "      <td>Febrero</td>\n",
       "      <td>29604832</td>\n",
       "      <td>14258851</td>\n",
       "      <td>2454954</td>\n",
       "      <td>7957003</td>\n",
       "      <td>3910403</td>\n",
       "      <td>1023621</td>\n",
       "    </tr>\n",
       "    <tr>\n",
       "      <th>4</th>\n",
       "      <td>NaN</td>\n",
       "      <td>Marzo</td>\n",
       "      <td>31100802</td>\n",
       "      <td>16086916</td>\n",
       "      <td>2404916</td>\n",
       "      <td>8382174</td>\n",
       "      <td>2837123</td>\n",
       "      <td>1389673</td>\n",
       "    </tr>\n",
       "  </tbody>\n",
       "</table>\n",
       "</div>"
      ],
      "text/plain": [
       "  Unnamed: 0  Período     Total Grandes \\nDemandas Medianas \\nDemandas  \\\n",
       "0        NaN      NaN       kWh                NaN                 NaN   \n",
       "1        NaN      NaN       NaN                NaN                 NaN   \n",
       "2       2010    Enero  28389813           14295431             1895533   \n",
       "3        NaN  Febrero  29604832           14258851             2454954   \n",
       "4        NaN    Marzo  31100802           16086916             2404916   \n",
       "\n",
       "  Uso\\n Residencial Uso \\nGeneral Alumbrado \\nPúblico   \n",
       "0               NaN           NaN                  NaN  \n",
       "1               NaN           NaN                  NaN  \n",
       "2           8505506       2752545               940798  \n",
       "3           7957003       3910403              1023621  \n",
       "4           8382174       2837123              1389673  "
      ]
     },
     "execution_count": 8,
     "metadata": {},
     "output_type": "execute_result"
    }
   ],
   "source": [
    "# Mostrar las primeras filas para verificar la correcta carga del archivo\n",
    "dataframe.head()"
   ]
  },
  {
   "cell_type": "code",
   "execution_count": 10,
   "id": "4f289bbe-2ade-45f2-a63f-bab08e7f3d87",
   "metadata": {},
   "outputs": [
    {
     "name": "stdout",
     "output_type": "stream",
     "text": [
      "Unnamed: 0              object\n",
      "Período                 object\n",
      "Total                   object\n",
      "Grandes \\nDemandas      object\n",
      "Medianas \\nDemandas     object\n",
      "Uso\\n Residencial       object\n",
      "Uso \\nGeneral           object\n",
      "Alumbrado \\nPúblico     object\n",
      "dtype: object\n"
     ]
    }
   ],
   "source": [
    "# Verificar tipo de datos\n",
    "print(dataframe.dtypes)"
   ]
  },
  {
   "cell_type": "code",
   "execution_count": 14,
   "id": "ad29dd9f-7395-4489-8bf1-e84d7169e5dc",
   "metadata": {},
   "outputs": [
    {
     "data": {
      "text/plain": [
       "Unnamed: 0              164\n",
       "Período                   7\n",
       "Total                     6\n",
       "Grandes \\nDemandas        7\n",
       "Medianas \\nDemandas       7\n",
       "Uso\\n Residencial         7\n",
       "Uso \\nGeneral             7\n",
       "Alumbrado \\nPúblico       7\n",
       "dtype: int64"
      ]
     },
     "execution_count": 14,
     "metadata": {},
     "output_type": "execute_result"
    }
   ],
   "source": [
    "dataframe.isnull().sum()"
   ]
  },
  {
   "cell_type": "code",
   "execution_count": 16,
   "id": "713b6d41-bf35-4f3e-8bf9-daee1cb5fec7",
   "metadata": {},
   "outputs": [
    {
     "name": "stdout",
     "output_type": "stream",
     "text": [
      "<class 'pandas.core.frame.DataFrame'>\n",
      "RangeIndex: 182 entries, 0 to 181\n",
      "Data columns (total 8 columns):\n",
      " #   Column               Non-Null Count  Dtype \n",
      "---  ------               --------------  ----- \n",
      " 0   Unnamed: 0           18 non-null     object\n",
      " 1   Período              175 non-null    object\n",
      " 2   Total                176 non-null    object\n",
      " 3   Grandes \n",
      "Demandas    175 non-null    object\n",
      " 4   Medianas \n",
      "Demandas   175 non-null    object\n",
      " 5   Uso\n",
      " Residencial     175 non-null    object\n",
      " 6   Uso \n",
      "General         175 non-null    object\n",
      " 7   Alumbrado \n",
      "Público   175 non-null    object\n",
      "dtypes: object(8)\n",
      "memory usage: 11.5+ KB\n"
     ]
    }
   ],
   "source": [
    "# Mostrar la información general del dataset\n",
    "dataframe.info()"
   ]
  },
  {
   "cell_type": "markdown",
   "id": "ff6be519-bbe8-4d46-9a1f-6773c80bbc5b",
   "metadata": {},
   "source": [
    "# Correción y limpieza del Dataset"
   ]
  },
  {
   "cell_type": "code",
   "execution_count": 18,
   "id": "ad14a89d-1e38-471d-aece-be92aad83c83",
   "metadata": {},
   "outputs": [
    {
     "data": {
      "text/html": [
       "<div>\n",
       "<style scoped>\n",
       "    .dataframe tbody tr th:only-of-type {\n",
       "        vertical-align: middle;\n",
       "    }\n",
       "\n",
       "    .dataframe tbody tr th {\n",
       "        vertical-align: top;\n",
       "    }\n",
       "\n",
       "    .dataframe thead th {\n",
       "        text-align: right;\n",
       "    }\n",
       "</style>\n",
       "<table border=\"1\" class=\"dataframe\">\n",
       "  <thead>\n",
       "    <tr style=\"text-align: right;\">\n",
       "      <th></th>\n",
       "      <th>index</th>\n",
       "      <th>Unnamed: 0</th>\n",
       "      <th>Período</th>\n",
       "      <th>Total</th>\n",
       "      <th>Grandes \\nDemandas</th>\n",
       "      <th>Medianas \\nDemandas</th>\n",
       "      <th>Uso\\n Residencial</th>\n",
       "      <th>Uso \\nGeneral</th>\n",
       "      <th>Alumbrado \\nPúblico</th>\n",
       "    </tr>\n",
       "  </thead>\n",
       "  <tbody>\n",
       "    <tr>\n",
       "      <th>0</th>\n",
       "      <td>2</td>\n",
       "      <td>2010</td>\n",
       "      <td>Enero</td>\n",
       "      <td>28389813</td>\n",
       "      <td>14295431</td>\n",
       "      <td>1895533</td>\n",
       "      <td>8505506</td>\n",
       "      <td>2752545</td>\n",
       "      <td>940798</td>\n",
       "    </tr>\n",
       "    <tr>\n",
       "      <th>1</th>\n",
       "      <td>3</td>\n",
       "      <td>NaN</td>\n",
       "      <td>Febrero</td>\n",
       "      <td>29604832</td>\n",
       "      <td>14258851</td>\n",
       "      <td>2454954</td>\n",
       "      <td>7957003</td>\n",
       "      <td>3910403</td>\n",
       "      <td>1023621</td>\n",
       "    </tr>\n",
       "    <tr>\n",
       "      <th>2</th>\n",
       "      <td>4</td>\n",
       "      <td>NaN</td>\n",
       "      <td>Marzo</td>\n",
       "      <td>31100802</td>\n",
       "      <td>16086916</td>\n",
       "      <td>2404916</td>\n",
       "      <td>8382174</td>\n",
       "      <td>2837123</td>\n",
       "      <td>1389673</td>\n",
       "    </tr>\n",
       "    <tr>\n",
       "      <th>3</th>\n",
       "      <td>5</td>\n",
       "      <td>NaN</td>\n",
       "      <td>Abril</td>\n",
       "      <td>34441839</td>\n",
       "      <td>15568924</td>\n",
       "      <td>2991200</td>\n",
       "      <td>9663763</td>\n",
       "      <td>4604950</td>\n",
       "      <td>1613002</td>\n",
       "    </tr>\n",
       "    <tr>\n",
       "      <th>4</th>\n",
       "      <td>6</td>\n",
       "      <td>NaN</td>\n",
       "      <td>Mayo</td>\n",
       "      <td>32849499</td>\n",
       "      <td>15230025</td>\n",
       "      <td>2664536</td>\n",
       "      <td>9744634</td>\n",
       "      <td>3245695</td>\n",
       "      <td>1964609</td>\n",
       "    </tr>\n",
       "  </tbody>\n",
       "</table>\n",
       "</div>"
      ],
      "text/plain": [
       "   index Unnamed: 0  Período     Total Grandes \\nDemandas Medianas \\nDemandas  \\\n",
       "0      2       2010    Enero  28389813           14295431             1895533   \n",
       "1      3        NaN  Febrero  29604832           14258851             2454954   \n",
       "2      4        NaN    Marzo  31100802           16086916             2404916   \n",
       "3      5        NaN    Abril  34441839           15568924             2991200   \n",
       "4      6        NaN     Mayo  32849499           15230025             2664536   \n",
       "\n",
       "  Uso\\n Residencial Uso \\nGeneral Alumbrado \\nPúblico   \n",
       "0           8505506       2752545               940798  \n",
       "1           7957003       3910403              1023621  \n",
       "2           8382174       2837123              1389673  \n",
       "3           9663763       4604950              1613002  \n",
       "4           9744634       3245695              1964609  "
      ]
     },
     "execution_count": 18,
     "metadata": {},
     "output_type": "execute_result"
    }
   ],
   "source": [
    "# Eliminar las filas 1 y 2 (índices 0 y 1)\n",
    "dataframe = dataframe.drop([0, 1]).reset_index(drop=False)\n",
    "dataframe.head()"
   ]
  },
  {
   "cell_type": "code",
   "execution_count": 30,
   "id": "c7f1a37a-0212-4794-bd03-b3fbd70ea287",
   "metadata": {},
   "outputs": [
    {
     "name": "stdout",
     "output_type": "stream",
     "text": [
      "Index(['index', 'Año', 'Período', 'Total', 'Grandes Demandas',\n",
      "       'Medianas Demandas', 'Uso Residencial', 'Uso General',\n",
      "       'Alumbrado Público'],\n",
      "      dtype='object')\n"
     ]
    }
   ],
   "source": [
    "# Renombrar características\n",
    "dataframe = dataframe.rename(columns={\n",
    "    \"Unnamed: 0\": \"Año\",\n",
    "    \"Grandes \\nDemandas\": \"Grandes Demandas\",\n",
    "    \"Medianas \\nDemandas\": \"Medianas Demandas\",\n",
    "    \"Uso\\n Residencial\": \"Uso Residencial\",\n",
    "    \"Uso \\nGeneral\": \"Uso General\",\n",
    "    \"Alumbrado \\nPúblico \": \"Alumbrado Público\"\n",
    "})\n",
    "\n",
    "print(dataframe.columns)"
   ]
  },
  {
   "cell_type": "code",
   "execution_count": 34,
   "id": "cf58babc-f934-458f-8a0f-72b2ec461bc0",
   "metadata": {},
   "outputs": [],
   "source": [
    "# Completar instancias de año vacias con el año correspondiente\n",
    "dataframe[\"Año\"] = dataframe[\"Año\"].ffill()"
   ]
  },
  {
   "cell_type": "code",
   "execution_count": 36,
   "id": "f44e80ce-759f-4f04-9fb9-029a5281abeb",
   "metadata": {},
   "outputs": [],
   "source": [
    "# Renombrar los nombres de meses con números enteros. \n",
    "meses_dict = {\n",
    "    \"Enero\": 1,\n",
    "    \"Febrero\": 2,\n",
    "    \"Marzo\": 3,\n",
    "    \"Abril\": 4,\n",
    "    \"Mayo\": 5,\n",
    "    \"Junio\": 6,\n",
    "    \"Julio\": 7,\n",
    "    \"Agosto\": 8,\n",
    "    \"Septiembre\": 9,\n",
    "    \"Octubre\": 10,\n",
    "    \"Noviembre\": 11,\n",
    "    \"Diciembre\": 12\n",
    "}\n",
    "dataframe[\"Período\"] = dataframe[\"Período\"].replace(meses_dict)"
   ]
  },
  {
   "cell_type": "code",
   "execution_count": 38,
   "id": "2a2c3891-1bcd-4d0e-8ace-5d9826c94f0c",
   "metadata": {},
   "outputs": [
    {
     "name": "stdout",
     "output_type": "stream",
     "text": [
      "index                 int64\n",
      "Año                  object\n",
      "Período              object\n",
      "Total                object\n",
      "Grandes Demandas     object\n",
      "Medianas Demandas    object\n",
      "Uso Residencial      object\n",
      "Uso General          object\n",
      "Alumbrado Público    object\n",
      "dtype: object\n"
     ]
    }
   ],
   "source": [
    "# Visualizar el tipo de dato de cada columna\n",
    "print(dataframe.dtypes)"
   ]
  },
  {
   "cell_type": "code",
   "execution_count": 42,
   "id": "0b0b097e-9b5c-47ce-997d-85a31097d96b",
   "metadata": {},
   "outputs": [
    {
     "name": "stdout",
     "output_type": "stream",
     "text": [
      "index                0\n",
      "Año                  0\n",
      "Período              5\n",
      "Total                5\n",
      "Grandes Demandas     5\n",
      "Medianas Demandas    5\n",
      "Uso Residencial      5\n",
      "Uso General          5\n",
      "Alumbrado Público    5\n",
      "dtype: int64\n"
     ]
    }
   ],
   "source": [
    "# Calcula el numero de valores nullos de cada columna\n",
    "null_counts = dataframe.isnull().sum()\n",
    "print(null_counts)"
   ]
  },
  {
   "cell_type": "code",
   "execution_count": 44,
   "id": "fa136f2f-1676-4159-aa75-a5fc373dea89",
   "metadata": {},
   "outputs": [
    {
     "name": "stdout",
     "output_type": "stream",
     "text": [
      "     index                                                Año Período Total  \\\n",
      "175    177                                               2024     NaN   NaN   \n",
      "176    178  Nota: Los años 2010 a 2016 no incluyen el cons...     NaN   NaN   \n",
      "177    179  ...Dato no disponible a la fecha de presentaci...     NaN   NaN   \n",
      "178    180  ...Dato no disponible a la fecha de presentaci...     NaN   NaN   \n",
      "179    181  Fuente: Dirección Provincial de Energía Ushuai...     NaN   NaN   \n",
      "\n",
      "    Grandes Demandas Medianas Demandas Uso Residencial Uso General  \\\n",
      "175              NaN               NaN             NaN         NaN   \n",
      "176              NaN               NaN             NaN         NaN   \n",
      "177              NaN               NaN             NaN         NaN   \n",
      "178              NaN               NaN             NaN         NaN   \n",
      "179              NaN               NaN             NaN         NaN   \n",
      "\n",
      "    Alumbrado Público  \n",
      "175               NaN  \n",
      "176               NaN  \n",
      "177               NaN  \n",
      "178               NaN  \n",
      "179               NaN  \n"
     ]
    }
   ],
   "source": [
    "# Vemos las instancias nulas almacenadas en \"filas_nulas\"\n",
    "filas_nulas = dataframe[dataframe.isnull().any(axis=1)]\n",
    "print(filas_nulas)"
   ]
  },
  {
   "cell_type": "code",
   "execution_count": 46,
   "id": "1ce00d05-49ff-4922-8297-478564ed4d3e",
   "metadata": {},
   "outputs": [],
   "source": [
    "# Eliminar las filas nulas del DataFrame original\n",
    "dataframe = dataframe.drop(filas_nulas.index)"
   ]
  },
  {
   "cell_type": "code",
   "execution_count": 48,
   "id": "e4cb95ff-f39f-4952-b2fa-694f3068cd73",
   "metadata": {},
   "outputs": [
    {
     "name": "stdout",
     "output_type": "stream",
     "text": [
      "index                0\n",
      "Año                  0\n",
      "Período              0\n",
      "Total                0\n",
      "Grandes Demandas     0\n",
      "Medianas Demandas    0\n",
      "Uso Residencial      0\n",
      "Uso General          0\n",
      "Alumbrado Público    0\n",
      "dtype: int64\n"
     ]
    }
   ],
   "source": [
    "null_counts = dataframe.isnull().sum()\n",
    "print(null_counts)"
   ]
  },
  {
   "cell_type": "code",
   "execution_count": 58,
   "id": "bd7b97b3-644e-45fa-ab82-b889ced28ba5",
   "metadata": {},
   "outputs": [
    {
     "name": "stdout",
     "output_type": "stream",
     "text": [
      "Cantidad de instancias y columnas: (175, 9)\n"
     ]
    }
   ],
   "source": [
    "# Verificar nuevamente cantidad de instancias y columnas\n",
    "print(\"Cantidad de instancias y columnas:\", dataframe.shape)"
   ]
  },
  {
   "cell_type": "code",
   "execution_count": null,
   "id": "5e0c06d3-c96b-43c6-895d-e8dec7414842",
   "metadata": {},
   "outputs": [],
   "source": [
    "####\n",
    "### continuar desde aqui en adelante\n",
    "###"
   ]
  },
  {
   "cell_type": "code",
   "execution_count": null,
   "id": "bebf0d33-62fc-479f-b5a9-f8bcdea43fd5",
   "metadata": {},
   "outputs": [],
   "source": [
    "# Supongamos que estás trabajando con la columna 'Total'\n",
    "problematic_rows = dataframe[~dataframe['Total'].apply(lambda x: str(x).replace('.', '', 1).isdigit())]\n",
    "print(problematic_rows)\n"
   ]
  },
  {
   "cell_type": "code",
   "execution_count": null,
   "id": "a01828db-dbd7-4412-a380-01739e4a77af",
   "metadata": {},
   "outputs": [],
   "source": [
    "# Eliminar las filas problemáticas\n",
    "dataframe = dataframe[dataframe['Total'].apply(lambda x: str(x).replace('.', '', 1).isdigit())]\n"
   ]
  },
  {
   "cell_type": "code",
   "execution_count": null,
   "id": "5547b213-8efd-4979-8b16-c882a1dbc135",
   "metadata": {},
   "outputs": [],
   "source": [
    "import seaborn as sns\n",
    "import matplotlib.pyplot as plt\n",
    "\n",
    "# Supongamos que tu DataFrame se llama 'dataframe'\n",
    "sns.boxplot(x=dataframe['Total'])\n",
    "plt.title('Boxplot de Total')\n",
    "plt.show()"
   ]
  },
  {
   "cell_type": "code",
   "execution_count": null,
   "id": "0db4a75b-40b2-4944-a44a-46264495729f",
   "metadata": {},
   "outputs": [],
   "source": [
    "pip install openpyxl"
   ]
  },
  {
   "cell_type": "code",
   "execution_count": null,
   "id": "fd71daa1-c8a1-48f0-8597-73e6cd93107a",
   "metadata": {},
   "outputs": [],
   "source": [
    "# Guardar el DataFrame como archivo CSV\n",
    "dataframe.to_csv('Consumo_Energia_Electrica_v1.csv', index=False)\n",
    "\n",
    "# ME DA ERROR AL GUARDAR ALGUNOS DATOS, MESES NO GUARDA CON NUM , ALGUNOS EN LETRAS. SEGUIR LIMPIANDO EL DATASET"
   ]
  }
 ],
 "metadata": {
  "kernelspec": {
   "display_name": "Python 3 (ipykernel)",
   "language": "python",
   "name": "python3"
  },
  "language_info": {
   "codemirror_mode": {
    "name": "ipython",
    "version": 3
   },
   "file_extension": ".py",
   "mimetype": "text/x-python",
   "name": "python",
   "nbconvert_exporter": "python",
   "pygments_lexer": "ipython3",
   "version": "3.12.4"
  }
 },
 "nbformat": 4,
 "nbformat_minor": 5
}
