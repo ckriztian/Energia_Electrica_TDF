{
 "cells": [
  {
   "cell_type": "code",
   "execution_count": 2,
   "id": "6f11905a-2560-4ab2-b2ca-b8fe9a5b1e10",
   "metadata": {},
   "outputs": [],
   "source": [
    "import pandas as pd\n",
    "import numpy as np\n",
    "from sklearn import linear_model\n",
    "from sklearn import model_selection\n",
    "from sklearn.metrics import classification_report\n",
    "from sklearn.metrics import confusion_matrix\n",
    "from sklearn.metrics import accuracy_score\n",
    "import matplotlib.pyplot as plt\n",
    "import seaborn as sb\n",
    "%matplotlib inline"
   ]
  },
  {
   "cell_type": "code",
   "execution_count": 30,
   "id": "c9c20872-dff2-4783-969d-dac0faceb812",
   "metadata": {},
   "outputs": [
    {
     "ename": "FileNotFoundError",
     "evalue": "[Errno 2] No such file or directory: '/data/raw/15_3_01_Energia_electrica_consumida_por_tipo_usuario-5.xlsx'",
     "output_type": "error",
     "traceback": [
      "\u001b[1;31m---------------------------------------------------------------------------\u001b[0m",
      "\u001b[1;31mFileNotFoundError\u001b[0m                         Traceback (most recent call last)",
      "Cell \u001b[1;32mIn[30], line 1\u001b[0m\n\u001b[1;32m----> 1\u001b[0m dataframe \u001b[38;5;241m=\u001b[39m pd\u001b[38;5;241m.\u001b[39mread_excel(\u001b[38;5;124m\"\u001b[39m\u001b[38;5;124m/data/raw/15_3_01_Energia_electrica_consumida_por_tipo_usuario-5.xlsx\u001b[39m\u001b[38;5;124m\"\u001b[39m, sheet_name\u001b[38;5;241m=\u001b[39m\u001b[38;5;124m\"\u001b[39m\u001b[38;5;124mTotal TDF\u001b[39m\u001b[38;5;124m\"\u001b[39m, header\u001b[38;5;241m=\u001b[39m\u001b[38;5;241m3\u001b[39m)\n\u001b[0;32m      2\u001b[0m dataframe\u001b[38;5;241m.\u001b[39mhead()\n",
      "File \u001b[1;32m~\\anaconda3\\Lib\\site-packages\\pandas\\io\\excel\\_base.py:495\u001b[0m, in \u001b[0;36mread_excel\u001b[1;34m(io, sheet_name, header, names, index_col, usecols, dtype, engine, converters, true_values, false_values, skiprows, nrows, na_values, keep_default_na, na_filter, verbose, parse_dates, date_parser, date_format, thousands, decimal, comment, skipfooter, storage_options, dtype_backend, engine_kwargs)\u001b[0m\n\u001b[0;32m    493\u001b[0m \u001b[38;5;28;01mif\u001b[39;00m \u001b[38;5;129;01mnot\u001b[39;00m \u001b[38;5;28misinstance\u001b[39m(io, ExcelFile):\n\u001b[0;32m    494\u001b[0m     should_close \u001b[38;5;241m=\u001b[39m \u001b[38;5;28;01mTrue\u001b[39;00m\n\u001b[1;32m--> 495\u001b[0m     io \u001b[38;5;241m=\u001b[39m ExcelFile(\n\u001b[0;32m    496\u001b[0m         io,\n\u001b[0;32m    497\u001b[0m         storage_options\u001b[38;5;241m=\u001b[39mstorage_options,\n\u001b[0;32m    498\u001b[0m         engine\u001b[38;5;241m=\u001b[39mengine,\n\u001b[0;32m    499\u001b[0m         engine_kwargs\u001b[38;5;241m=\u001b[39mengine_kwargs,\n\u001b[0;32m    500\u001b[0m     )\n\u001b[0;32m    501\u001b[0m \u001b[38;5;28;01melif\u001b[39;00m engine \u001b[38;5;129;01mand\u001b[39;00m engine \u001b[38;5;241m!=\u001b[39m io\u001b[38;5;241m.\u001b[39mengine:\n\u001b[0;32m    502\u001b[0m     \u001b[38;5;28;01mraise\u001b[39;00m \u001b[38;5;167;01mValueError\u001b[39;00m(\n\u001b[0;32m    503\u001b[0m         \u001b[38;5;124m\"\u001b[39m\u001b[38;5;124mEngine should not be specified when passing \u001b[39m\u001b[38;5;124m\"\u001b[39m\n\u001b[0;32m    504\u001b[0m         \u001b[38;5;124m\"\u001b[39m\u001b[38;5;124man ExcelFile - ExcelFile already has the engine set\u001b[39m\u001b[38;5;124m\"\u001b[39m\n\u001b[0;32m    505\u001b[0m     )\n",
      "File \u001b[1;32m~\\anaconda3\\Lib\\site-packages\\pandas\\io\\excel\\_base.py:1550\u001b[0m, in \u001b[0;36mExcelFile.__init__\u001b[1;34m(self, path_or_buffer, engine, storage_options, engine_kwargs)\u001b[0m\n\u001b[0;32m   1548\u001b[0m     ext \u001b[38;5;241m=\u001b[39m \u001b[38;5;124m\"\u001b[39m\u001b[38;5;124mxls\u001b[39m\u001b[38;5;124m\"\u001b[39m\n\u001b[0;32m   1549\u001b[0m \u001b[38;5;28;01melse\u001b[39;00m:\n\u001b[1;32m-> 1550\u001b[0m     ext \u001b[38;5;241m=\u001b[39m inspect_excel_format(\n\u001b[0;32m   1551\u001b[0m         content_or_path\u001b[38;5;241m=\u001b[39mpath_or_buffer, storage_options\u001b[38;5;241m=\u001b[39mstorage_options\n\u001b[0;32m   1552\u001b[0m     )\n\u001b[0;32m   1553\u001b[0m     \u001b[38;5;28;01mif\u001b[39;00m ext \u001b[38;5;129;01mis\u001b[39;00m \u001b[38;5;28;01mNone\u001b[39;00m:\n\u001b[0;32m   1554\u001b[0m         \u001b[38;5;28;01mraise\u001b[39;00m \u001b[38;5;167;01mValueError\u001b[39;00m(\n\u001b[0;32m   1555\u001b[0m             \u001b[38;5;124m\"\u001b[39m\u001b[38;5;124mExcel file format cannot be determined, you must specify \u001b[39m\u001b[38;5;124m\"\u001b[39m\n\u001b[0;32m   1556\u001b[0m             \u001b[38;5;124m\"\u001b[39m\u001b[38;5;124man engine manually.\u001b[39m\u001b[38;5;124m\"\u001b[39m\n\u001b[0;32m   1557\u001b[0m         )\n",
      "File \u001b[1;32m~\\anaconda3\\Lib\\site-packages\\pandas\\io\\excel\\_base.py:1402\u001b[0m, in \u001b[0;36minspect_excel_format\u001b[1;34m(content_or_path, storage_options)\u001b[0m\n\u001b[0;32m   1399\u001b[0m \u001b[38;5;28;01mif\u001b[39;00m \u001b[38;5;28misinstance\u001b[39m(content_or_path, \u001b[38;5;28mbytes\u001b[39m):\n\u001b[0;32m   1400\u001b[0m     content_or_path \u001b[38;5;241m=\u001b[39m BytesIO(content_or_path)\n\u001b[1;32m-> 1402\u001b[0m \u001b[38;5;28;01mwith\u001b[39;00m get_handle(\n\u001b[0;32m   1403\u001b[0m     content_or_path, \u001b[38;5;124m\"\u001b[39m\u001b[38;5;124mrb\u001b[39m\u001b[38;5;124m\"\u001b[39m, storage_options\u001b[38;5;241m=\u001b[39mstorage_options, is_text\u001b[38;5;241m=\u001b[39m\u001b[38;5;28;01mFalse\u001b[39;00m\n\u001b[0;32m   1404\u001b[0m ) \u001b[38;5;28;01mas\u001b[39;00m handle:\n\u001b[0;32m   1405\u001b[0m     stream \u001b[38;5;241m=\u001b[39m handle\u001b[38;5;241m.\u001b[39mhandle\n\u001b[0;32m   1406\u001b[0m     stream\u001b[38;5;241m.\u001b[39mseek(\u001b[38;5;241m0\u001b[39m)\n",
      "File \u001b[1;32m~\\anaconda3\\Lib\\site-packages\\pandas\\io\\common.py:882\u001b[0m, in \u001b[0;36mget_handle\u001b[1;34m(path_or_buf, mode, encoding, compression, memory_map, is_text, errors, storage_options)\u001b[0m\n\u001b[0;32m    873\u001b[0m         handle \u001b[38;5;241m=\u001b[39m \u001b[38;5;28mopen\u001b[39m(\n\u001b[0;32m    874\u001b[0m             handle,\n\u001b[0;32m    875\u001b[0m             ioargs\u001b[38;5;241m.\u001b[39mmode,\n\u001b[1;32m   (...)\u001b[0m\n\u001b[0;32m    878\u001b[0m             newline\u001b[38;5;241m=\u001b[39m\u001b[38;5;124m\"\u001b[39m\u001b[38;5;124m\"\u001b[39m,\n\u001b[0;32m    879\u001b[0m         )\n\u001b[0;32m    880\u001b[0m     \u001b[38;5;28;01melse\u001b[39;00m:\n\u001b[0;32m    881\u001b[0m         \u001b[38;5;66;03m# Binary mode\u001b[39;00m\n\u001b[1;32m--> 882\u001b[0m         handle \u001b[38;5;241m=\u001b[39m \u001b[38;5;28mopen\u001b[39m(handle, ioargs\u001b[38;5;241m.\u001b[39mmode)\n\u001b[0;32m    883\u001b[0m     handles\u001b[38;5;241m.\u001b[39mappend(handle)\n\u001b[0;32m    885\u001b[0m \u001b[38;5;66;03m# Convert BytesIO or file objects passed with an encoding\u001b[39;00m\n",
      "\u001b[1;31mFileNotFoundError\u001b[0m: [Errno 2] No such file or directory: '/data/raw/15_3_01_Energia_electrica_consumida_por_tipo_usuario-5.xlsx'"
     ]
    }
   ],
   "source": [
    "dataframe = pd.read_excel(\"/data/raw/15_3_01_Energia_electrica_consumida_por_tipo_usuario-5.xlsx\", sheet_name=\"Total TDF\", header=3)\n",
    "dataframe.head()"
   ]
  },
  {
   "cell_type": "code",
   "execution_count": 6,
   "id": "0fbd0a3a-4a51-4f69-ad8e-bb096a82af40",
   "metadata": {},
   "outputs": [
    {
     "name": "stdout",
     "output_type": "stream",
     "text": [
      "Cantidad de instancias: 182\n",
      "Cantidad de columnas: 8\n"
     ]
    }
   ],
   "source": [
    "# Visualización  de cantidad de instancias y columnas.\n",
    "num_instancias, num_columnas = dataframe.shape\n",
    "print(f'Cantidad de instancias: {num_instancias}')\n",
    "print(f'Cantidad de columnas: {num_columnas}')"
   ]
  },
  {
   "cell_type": "code",
   "execution_count": 8,
   "id": "84cf85fc-81c9-4933-aa07-1d03b3911e89",
   "metadata": {},
   "outputs": [
    {
     "data": {
      "text/html": [
       "<div>\n",
       "<style scoped>\n",
       "    .dataframe tbody tr th:only-of-type {\n",
       "        vertical-align: middle;\n",
       "    }\n",
       "\n",
       "    .dataframe tbody tr th {\n",
       "        vertical-align: top;\n",
       "    }\n",
       "\n",
       "    .dataframe thead th {\n",
       "        text-align: right;\n",
       "    }\n",
       "</style>\n",
       "<table border=\"1\" class=\"dataframe\">\n",
       "  <thead>\n",
       "    <tr style=\"text-align: right;\">\n",
       "      <th></th>\n",
       "      <th>index</th>\n",
       "      <th>Unnamed: 0</th>\n",
       "      <th>Período</th>\n",
       "      <th>Total</th>\n",
       "      <th>Grandes \\nDemandas</th>\n",
       "      <th>Medianas \\nDemandas</th>\n",
       "      <th>Uso\\n Residencial</th>\n",
       "      <th>Uso \\nGeneral</th>\n",
       "      <th>Alumbrado \\nPúblico</th>\n",
       "    </tr>\n",
       "  </thead>\n",
       "  <tbody>\n",
       "    <tr>\n",
       "      <th>0</th>\n",
       "      <td>2</td>\n",
       "      <td>2010</td>\n",
       "      <td>Enero</td>\n",
       "      <td>28389813</td>\n",
       "      <td>14295431</td>\n",
       "      <td>1895533</td>\n",
       "      <td>8505506</td>\n",
       "      <td>2752545</td>\n",
       "      <td>940798</td>\n",
       "    </tr>\n",
       "    <tr>\n",
       "      <th>1</th>\n",
       "      <td>3</td>\n",
       "      <td>NaN</td>\n",
       "      <td>Febrero</td>\n",
       "      <td>29604832</td>\n",
       "      <td>14258851</td>\n",
       "      <td>2454954</td>\n",
       "      <td>7957003</td>\n",
       "      <td>3910403</td>\n",
       "      <td>1023621</td>\n",
       "    </tr>\n",
       "    <tr>\n",
       "      <th>2</th>\n",
       "      <td>4</td>\n",
       "      <td>NaN</td>\n",
       "      <td>Marzo</td>\n",
       "      <td>31100802</td>\n",
       "      <td>16086916</td>\n",
       "      <td>2404916</td>\n",
       "      <td>8382174</td>\n",
       "      <td>2837123</td>\n",
       "      <td>1389673</td>\n",
       "    </tr>\n",
       "    <tr>\n",
       "      <th>3</th>\n",
       "      <td>5</td>\n",
       "      <td>NaN</td>\n",
       "      <td>Abril</td>\n",
       "      <td>34441839</td>\n",
       "      <td>15568924</td>\n",
       "      <td>2991200</td>\n",
       "      <td>9663763</td>\n",
       "      <td>4604950</td>\n",
       "      <td>1613002</td>\n",
       "    </tr>\n",
       "    <tr>\n",
       "      <th>4</th>\n",
       "      <td>6</td>\n",
       "      <td>NaN</td>\n",
       "      <td>Mayo</td>\n",
       "      <td>32849499</td>\n",
       "      <td>15230025</td>\n",
       "      <td>2664536</td>\n",
       "      <td>9744634</td>\n",
       "      <td>3245695</td>\n",
       "      <td>1964609</td>\n",
       "    </tr>\n",
       "  </tbody>\n",
       "</table>\n",
       "</div>"
      ],
      "text/plain": [
       "   index Unnamed: 0  Período     Total Grandes \\nDemandas Medianas \\nDemandas  \\\n",
       "0      2       2010    Enero  28389813           14295431             1895533   \n",
       "1      3        NaN  Febrero  29604832           14258851             2454954   \n",
       "2      4        NaN    Marzo  31100802           16086916             2404916   \n",
       "3      5        NaN    Abril  34441839           15568924             2991200   \n",
       "4      6        NaN     Mayo  32849499           15230025             2664536   \n",
       "\n",
       "  Uso\\n Residencial Uso \\nGeneral Alumbrado \\nPúblico   \n",
       "0           8505506       2752545               940798  \n",
       "1           7957003       3910403              1023621  \n",
       "2           8382174       2837123              1389673  \n",
       "3           9663763       4604950              1613002  \n",
       "4           9744634       3245695              1964609  "
      ]
     },
     "execution_count": 8,
     "metadata": {},
     "output_type": "execute_result"
    }
   ],
   "source": [
    "# Eliminar las filas 1 y 2 (índices 0 y 1)\n",
    "dataframe = dataframe.drop([0, 1]).reset_index(drop=False)\n",
    "dataframe.head()"
   ]
  },
  {
   "cell_type": "code",
   "execution_count": 10,
   "id": "c7f1a37a-0212-4794-bd03-b3fbd70ea287",
   "metadata": {},
   "outputs": [
    {
     "name": "stdout",
     "output_type": "stream",
     "text": [
      "Index(['index', 'Año', 'Período', 'Total', 'Grandes Demandas',\n",
      "       'Medianas Demandas', 'Uso Residencial', 'Uso General',\n",
      "       'Alumbrado Público'],\n",
      "      dtype='object')\n"
     ]
    },
    {
     "data": {
      "text/html": [
       "<div>\n",
       "<style scoped>\n",
       "    .dataframe tbody tr th:only-of-type {\n",
       "        vertical-align: middle;\n",
       "    }\n",
       "\n",
       "    .dataframe tbody tr th {\n",
       "        vertical-align: top;\n",
       "    }\n",
       "\n",
       "    .dataframe thead th {\n",
       "        text-align: right;\n",
       "    }\n",
       "</style>\n",
       "<table border=\"1\" class=\"dataframe\">\n",
       "  <thead>\n",
       "    <tr style=\"text-align: right;\">\n",
       "      <th></th>\n",
       "      <th>index</th>\n",
       "      <th>Año</th>\n",
       "      <th>Período</th>\n",
       "      <th>Total</th>\n",
       "      <th>Grandes Demandas</th>\n",
       "      <th>Medianas Demandas</th>\n",
       "      <th>Uso Residencial</th>\n",
       "      <th>Uso General</th>\n",
       "      <th>Alumbrado Público</th>\n",
       "    </tr>\n",
       "  </thead>\n",
       "  <tbody>\n",
       "    <tr>\n",
       "      <th>0</th>\n",
       "      <td>2</td>\n",
       "      <td>2010</td>\n",
       "      <td>Enero</td>\n",
       "      <td>28389813</td>\n",
       "      <td>14295431</td>\n",
       "      <td>1895533</td>\n",
       "      <td>8505506</td>\n",
       "      <td>2752545</td>\n",
       "      <td>940798</td>\n",
       "    </tr>\n",
       "    <tr>\n",
       "      <th>1</th>\n",
       "      <td>3</td>\n",
       "      <td>NaN</td>\n",
       "      <td>Febrero</td>\n",
       "      <td>29604832</td>\n",
       "      <td>14258851</td>\n",
       "      <td>2454954</td>\n",
       "      <td>7957003</td>\n",
       "      <td>3910403</td>\n",
       "      <td>1023621</td>\n",
       "    </tr>\n",
       "    <tr>\n",
       "      <th>2</th>\n",
       "      <td>4</td>\n",
       "      <td>NaN</td>\n",
       "      <td>Marzo</td>\n",
       "      <td>31100802</td>\n",
       "      <td>16086916</td>\n",
       "      <td>2404916</td>\n",
       "      <td>8382174</td>\n",
       "      <td>2837123</td>\n",
       "      <td>1389673</td>\n",
       "    </tr>\n",
       "    <tr>\n",
       "      <th>3</th>\n",
       "      <td>5</td>\n",
       "      <td>NaN</td>\n",
       "      <td>Abril</td>\n",
       "      <td>34441839</td>\n",
       "      <td>15568924</td>\n",
       "      <td>2991200</td>\n",
       "      <td>9663763</td>\n",
       "      <td>4604950</td>\n",
       "      <td>1613002</td>\n",
       "    </tr>\n",
       "    <tr>\n",
       "      <th>4</th>\n",
       "      <td>6</td>\n",
       "      <td>NaN</td>\n",
       "      <td>Mayo</td>\n",
       "      <td>32849499</td>\n",
       "      <td>15230025</td>\n",
       "      <td>2664536</td>\n",
       "      <td>9744634</td>\n",
       "      <td>3245695</td>\n",
       "      <td>1964609</td>\n",
       "    </tr>\n",
       "  </tbody>\n",
       "</table>\n",
       "</div>"
      ],
      "text/plain": [
       "   index   Año  Período     Total Grandes Demandas Medianas Demandas  \\\n",
       "0      2  2010    Enero  28389813         14295431           1895533   \n",
       "1      3   NaN  Febrero  29604832         14258851           2454954   \n",
       "2      4   NaN    Marzo  31100802         16086916           2404916   \n",
       "3      5   NaN    Abril  34441839         15568924           2991200   \n",
       "4      6   NaN     Mayo  32849499         15230025           2664536   \n",
       "\n",
       "  Uso Residencial Uso General Alumbrado Público  \n",
       "0         8505506     2752545            940798  \n",
       "1         7957003     3910403           1023621  \n",
       "2         8382174     2837123           1389673  \n",
       "3         9663763     4604950           1613002  \n",
       "4         9744634     3245695           1964609  "
      ]
     },
     "execution_count": 10,
     "metadata": {},
     "output_type": "execute_result"
    }
   ],
   "source": [
    "# Renombrar características\n",
    "dataframe = dataframe.rename(columns={\n",
    "    \"Unnamed: 0\": \"Año\",\n",
    "    \"Grandes \\nDemandas\": \"Grandes Demandas\",\n",
    "    \"Medianas \\nDemandas\": \"Medianas Demandas\",\n",
    "    \"Uso\\n Residencial\": \"Uso Residencial\",\n",
    "    \"Uso \\nGeneral\": \"Uso General\",\n",
    "    \"Alumbrado \\nPúblico \": \"Alumbrado Público\"\n",
    "})\n",
    "\n",
    "print(dataframe.columns)\n",
    "dataframe.head()"
   ]
  },
  {
   "cell_type": "code",
   "execution_count": 12,
   "id": "cf58babc-f934-458f-8a0f-72b2ec461bc0",
   "metadata": {},
   "outputs": [
    {
     "data": {
      "text/html": [
       "<div>\n",
       "<style scoped>\n",
       "    .dataframe tbody tr th:only-of-type {\n",
       "        vertical-align: middle;\n",
       "    }\n",
       "\n",
       "    .dataframe tbody tr th {\n",
       "        vertical-align: top;\n",
       "    }\n",
       "\n",
       "    .dataframe thead th {\n",
       "        text-align: right;\n",
       "    }\n",
       "</style>\n",
       "<table border=\"1\" class=\"dataframe\">\n",
       "  <thead>\n",
       "    <tr style=\"text-align: right;\">\n",
       "      <th></th>\n",
       "      <th>index</th>\n",
       "      <th>Año</th>\n",
       "      <th>Período</th>\n",
       "      <th>Total</th>\n",
       "      <th>Grandes Demandas</th>\n",
       "      <th>Medianas Demandas</th>\n",
       "      <th>Uso Residencial</th>\n",
       "      <th>Uso General</th>\n",
       "      <th>Alumbrado Público</th>\n",
       "    </tr>\n",
       "  </thead>\n",
       "  <tbody>\n",
       "    <tr>\n",
       "      <th>0</th>\n",
       "      <td>2</td>\n",
       "      <td>2010</td>\n",
       "      <td>Enero</td>\n",
       "      <td>28389813</td>\n",
       "      <td>14295431</td>\n",
       "      <td>1895533</td>\n",
       "      <td>8505506</td>\n",
       "      <td>2752545</td>\n",
       "      <td>940798</td>\n",
       "    </tr>\n",
       "    <tr>\n",
       "      <th>1</th>\n",
       "      <td>3</td>\n",
       "      <td>2010</td>\n",
       "      <td>Febrero</td>\n",
       "      <td>29604832</td>\n",
       "      <td>14258851</td>\n",
       "      <td>2454954</td>\n",
       "      <td>7957003</td>\n",
       "      <td>3910403</td>\n",
       "      <td>1023621</td>\n",
       "    </tr>\n",
       "    <tr>\n",
       "      <th>2</th>\n",
       "      <td>4</td>\n",
       "      <td>2010</td>\n",
       "      <td>Marzo</td>\n",
       "      <td>31100802</td>\n",
       "      <td>16086916</td>\n",
       "      <td>2404916</td>\n",
       "      <td>8382174</td>\n",
       "      <td>2837123</td>\n",
       "      <td>1389673</td>\n",
       "    </tr>\n",
       "    <tr>\n",
       "      <th>3</th>\n",
       "      <td>5</td>\n",
       "      <td>2010</td>\n",
       "      <td>Abril</td>\n",
       "      <td>34441839</td>\n",
       "      <td>15568924</td>\n",
       "      <td>2991200</td>\n",
       "      <td>9663763</td>\n",
       "      <td>4604950</td>\n",
       "      <td>1613002</td>\n",
       "    </tr>\n",
       "    <tr>\n",
       "      <th>4</th>\n",
       "      <td>6</td>\n",
       "      <td>2010</td>\n",
       "      <td>Mayo</td>\n",
       "      <td>32849499</td>\n",
       "      <td>15230025</td>\n",
       "      <td>2664536</td>\n",
       "      <td>9744634</td>\n",
       "      <td>3245695</td>\n",
       "      <td>1964609</td>\n",
       "    </tr>\n",
       "  </tbody>\n",
       "</table>\n",
       "</div>"
      ],
      "text/plain": [
       "   index   Año  Período     Total Grandes Demandas Medianas Demandas  \\\n",
       "0      2  2010    Enero  28389813         14295431           1895533   \n",
       "1      3  2010  Febrero  29604832         14258851           2454954   \n",
       "2      4  2010    Marzo  31100802         16086916           2404916   \n",
       "3      5  2010    Abril  34441839         15568924           2991200   \n",
       "4      6  2010     Mayo  32849499         15230025           2664536   \n",
       "\n",
       "  Uso Residencial Uso General Alumbrado Público  \n",
       "0         8505506     2752545            940798  \n",
       "1         7957003     3910403           1023621  \n",
       "2         8382174     2837123           1389673  \n",
       "3         9663763     4604950           1613002  \n",
       "4         9744634     3245695           1964609  "
      ]
     },
     "execution_count": 12,
     "metadata": {},
     "output_type": "execute_result"
    }
   ],
   "source": [
    "# Completar instancias de año vacias con el año correspondiente\n",
    "dataframe[\"Año\"] = dataframe[\"Año\"].ffill()\n",
    "dataframe.head()"
   ]
  },
  {
   "cell_type": "code",
   "execution_count": 20,
   "id": "f44e80ce-759f-4f04-9fb9-029a5281abeb",
   "metadata": {},
   "outputs": [],
   "source": [
    "# Renombrar los nombres de meses con números enteros. \n",
    "meses_dict = {\n",
    "    \"Enero\": 1,\n",
    "    \"Febrero\": 2,\n",
    "    \"Marzo\": 3,\n",
    "    \"Abril\": 4,\n",
    "    \"Mayo\": 5,\n",
    "    \"Junio\": 6,\n",
    "    \"Julio\": 7,\n",
    "    \"Agosto\": 8,\n",
    "    \"Septiembre\": 9,\n",
    "    \"Octubre\": 10,\n",
    "    \"Noviembre\": 11,\n",
    "    \"Diciembre\": 12\n",
    "}\n",
    "dataframe[\"Período\"] = dataframe[\"Período\"].replace(meses_dict)"
   ]
  },
  {
   "cell_type": "code",
   "execution_count": 22,
   "id": "2a2c3891-1bcd-4d0e-8ace-5d9826c94f0c",
   "metadata": {},
   "outputs": [
    {
     "name": "stdout",
     "output_type": "stream",
     "text": [
      "index                 int64\n",
      "Año                  object\n",
      "Período              object\n",
      "Total                object\n",
      "Grandes Demandas     object\n",
      "Medianas Demandas    object\n",
      "Uso Residencial      object\n",
      "Uso General          object\n",
      "Alumbrado Público    object\n",
      "dtype: object\n"
     ]
    }
   ],
   "source": [
    "# Visualizar el tipo de dato de cada columna\n",
    "print(dataframe.dtypes)"
   ]
  },
  {
   "cell_type": "code",
   "execution_count": 9,
   "id": "0b0b097e-9b5c-47ce-997d-85a31097d96b",
   "metadata": {},
   "outputs": [
    {
     "name": "stdout",
     "output_type": "stream",
     "text": [
      "index                0\n",
      "Año                  0\n",
      "Período              5\n",
      "Total                5\n",
      "Grandes Demandas     5\n",
      "Medianas Demandas    5\n",
      "Uso Residencial      5\n",
      "Uso General          5\n",
      "Alumbrado Público    5\n",
      "dtype: int64\n"
     ]
    }
   ],
   "source": [
    "# Calcula el numero de valores nullos de cada columna\n",
    "null_counts = dataframe.isnull().sum()\n",
    "print(null_counts)"
   ]
  },
  {
   "cell_type": "code",
   "execution_count": 24,
   "id": "fa136f2f-1676-4159-aa75-a5fc373dea89",
   "metadata": {},
   "outputs": [
    {
     "name": "stdout",
     "output_type": "stream",
     "text": [
      "     index                                                Año Período Total  \\\n",
      "175    177                                               2024     NaN   NaN   \n",
      "176    178  Nota: Los años 2010 a 2016 no incluyen el cons...     NaN   NaN   \n",
      "177    179  ...Dato no disponible a la fecha de presentaci...     NaN   NaN   \n",
      "178    180  ...Dato no disponible a la fecha de presentaci...     NaN   NaN   \n",
      "179    181  Fuente: Dirección Provincial de Energía Ushuai...     NaN   NaN   \n",
      "\n",
      "    Grandes Demandas Medianas Demandas Uso Residencial Uso General  \\\n",
      "175              NaN               NaN             NaN         NaN   \n",
      "176              NaN               NaN             NaN         NaN   \n",
      "177              NaN               NaN             NaN         NaN   \n",
      "178              NaN               NaN             NaN         NaN   \n",
      "179              NaN               NaN             NaN         NaN   \n",
      "\n",
      "    Alumbrado Público  \n",
      "175               NaN  \n",
      "176               NaN  \n",
      "177               NaN  \n",
      "178               NaN  \n",
      "179               NaN  \n"
     ]
    }
   ],
   "source": [
    "# Supongamos que tu DataFrame se llama 'dataframe'\n",
    "filas_nulas = dataframe[dataframe.isnull().any(axis=1)]\n",
    "print(filas_nulas)"
   ]
  },
  {
   "cell_type": "code",
   "execution_count": 11,
   "id": "1ce00d05-49ff-4922-8297-478564ed4d3e",
   "metadata": {},
   "outputs": [],
   "source": [
    "dataframe = dataframe.dropna()"
   ]
  },
  {
   "cell_type": "code",
   "execution_count": 12,
   "id": "bfe4bf42-4c73-4e19-af52-9a5824ffaa3a",
   "metadata": {},
   "outputs": [
    {
     "name": "stdout",
     "output_type": "stream",
     "text": [
      "index                0\n",
      "Año                  0\n",
      "Período              0\n",
      "Total                0\n",
      "Grandes Demandas     0\n",
      "Medianas Demandas    0\n",
      "Uso Residencial      0\n",
      "Uso General          0\n",
      "Alumbrado Público    0\n",
      "dtype: int64\n",
      "Empty DataFrame\n",
      "Columns: [index, Año, Período, Total, Grandes Demandas, Medianas Demandas, Uso Residencial, Uso General, Alumbrado Público]\n",
      "Index: []\n"
     ]
    }
   ],
   "source": [
    "# Supongamos que tu DataFrame se llama 'dataframe'\n",
    "null_counts = dataframe.isnull().sum()\n",
    "print(null_counts)\n",
    "# Supongamos que tu DataFrame se llama 'dataframe'\n",
    "filas_nulas = dataframe[dataframe.isnull().any(axis=1)]\n",
    "print(filas_nulas)"
   ]
  },
  {
   "cell_type": "code",
   "execution_count": 13,
   "id": "c2c1b690-373c-4cb4-a2ac-66fdb6630bb1",
   "metadata": {},
   "outputs": [
    {
     "name": "stdout",
     "output_type": "stream",
     "text": [
      "index                 int64\n",
      "Año                  object\n",
      "Período              object\n",
      "Total                object\n",
      "Grandes Demandas     object\n",
      "Medianas Demandas    object\n",
      "Uso Residencial      object\n",
      "Uso General          object\n",
      "Alumbrado Público    object\n",
      "dtype: object\n"
     ]
    }
   ],
   "source": [
    "print(dataframe.dtypes)"
   ]
  },
  {
   "cell_type": "code",
   "execution_count": 14,
   "id": "bebf0d33-62fc-479f-b5a9-f8bcdea43fd5",
   "metadata": {},
   "outputs": [
    {
     "name": "stdout",
     "output_type": "stream",
     "text": [
      "     index   Año Período Total Grandes Demandas Medianas Demandas  \\\n",
      "173    175  2024       6   ...              ...               ...   \n",
      "174    176  2024       7   ...              ...               ...   \n",
      "\n",
      "    Uso Residencial Uso General Alumbrado Público  \n",
      "173             ...         ...               ...  \n",
      "174             ...         ...               ...  \n"
     ]
    }
   ],
   "source": [
    "# Supongamos que estás trabajando con la columna 'Total'\n",
    "problematic_rows = dataframe[~dataframe['Total'].apply(lambda x: str(x).replace('.', '', 1).isdigit())]\n",
    "print(problematic_rows)\n"
   ]
  },
  {
   "cell_type": "code",
   "execution_count": 15,
   "id": "a01828db-dbd7-4412-a380-01739e4a77af",
   "metadata": {},
   "outputs": [],
   "source": [
    "# Eliminar las filas problemáticas\n",
    "dataframe = dataframe[dataframe['Total'].apply(lambda x: str(x).replace('.', '', 1).isdigit())]\n"
   ]
  },
  {
   "cell_type": "code",
   "execution_count": 16,
   "id": "5547b213-8efd-4979-8b16-c882a1dbc135",
   "metadata": {},
   "outputs": [
    {
     "data": {
      "image/png": "[encoded data removed]",
      "text/plain": [
       "<Figure size 640x480 with 1 Axes>"
      ]
     },
     "metadata": {},
     "output_type": "display_data"
    }
   ],
   "source": [
    "import seaborn as sns\n",
    "import matplotlib.pyplot as plt\n",
    "\n",
    "# Supongamos que tu DataFrame se llama 'dataframe'\n",
    "sns.boxplot(x=dataframe['Total'])\n",
    "plt.title('Boxplot de Total')\n",
    "plt.show()"
   ]
  },
  {
   "cell_type": "code",
   "execution_count": 17,
   "id": "0db4a75b-40b2-4944-a44a-46264495729f",
   "metadata": {},
   "outputs": [
    {
     "name": "stdout",
     "output_type": "stream",
     "text": [
      "Requirement already satisfied: openpyxl in c:\\users\\cristian\\anaconda3\\lib\\site-packages (3.1.2)\n",
      "Requirement already satisfied: et-xmlfile in c:\\users\\cristian\\anaconda3\\lib\\site-packages (from openpyxl) (1.1.0)\n",
      "Note: you may need to restart the kernel to use updated packages.\n"
     ]
    }
   ],
   "source": [
    "pip install openpyxl"
   ]
  },
  {
   "cell_type": "code",
   "execution_count": 18,
   "id": "fd71daa1-c8a1-48f0-8597-73e6cd93107a",
   "metadata": {},
   "outputs": [],
   "source": [
    "# Guardar el DataFrame como archivo CSV\n",
    "dataframe.to_csv('Consumo_Energia_Electrica_v1.csv', index=False)\n",
    "\n",
    "# ME DA ERROR AL GUARDAR ALGUNOS DATOS, MESES NO GUARDA CON NUM , ALGUNOS EN LETRAS. SEGUIR LIMPIANDO EL DATASET"
   ]
  }
 ],
 "metadata": {
  "kernelspec": {
   "display_name": "Python 3 (ipykernel)",
   "language": "python",
   "name": "python3"
  },
  "language_info": {
   "codemirror_mode": {
    "name": "ipython",
    "version": 3
   },
   "file_extension": ".py",
   "mimetype": "text/x-python",
   "name": "python",
   "nbconvert_exporter": "python",
   "pygments_lexer": "ipython3",
   "version": "3.12.4"
  }
 },
 "nbformat": 4,
 "nbformat_minor": 5
}
