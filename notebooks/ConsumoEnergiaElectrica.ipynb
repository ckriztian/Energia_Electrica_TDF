{
 "cells": [
  {
   "cell_type": "markdown",
   "metadata": {
    "colab_type": "text",
    "id": "view-in-github"
   },
   "source": [
    "<a href=\"https://colab.research.google.com/github/ckriztian/Energia_Electrica_TDF/blob/main/ConsumoEnergiaElectrica.ipynb\" target=\"_parent\"><img src=\"https://colab.research.google.com/assets/colab-badge.svg\" alt=\"Open In Colab\"/></a>"
   ]
  },
  {
   "cell_type": "code",
   "execution_count": 1,
   "id": "6f11905a-2560-4ab2-b2ca-b8fe9a5b1e10",
   "metadata": {
    "id": "6f11905a-2560-4ab2-b2ca-b8fe9a5b1e10"
   },
   "outputs": [],
   "source": [
    "from google.colab import drive\n",
    "import pandas as pd\n",
    "import numpy as np\n",
    "import matplotlib.pyplot as plt\n",
    "import seaborn as sb\n",
    "\n",
    "%matplotlib inline"
   ]
  },
  {
   "cell_type": "markdown",
   "id": "a943814e-b3c4-491e-8f9e-65b2bae46d19",
   "metadata": {
    "id": "a943814e-b3c4-491e-8f9e-65b2bae46d19"
   },
   "source": [
    "# **Carga de Datos**"
   ]
  },
  {
   "cell_type": "code",
   "execution_count": 2,
   "id": "c9c20872-dff2-4783-969d-dac0faceb812",
   "metadata": {
    "colab": {
     "base_uri": "https://localhost:8080/"
    },
    "id": "c9c20872-dff2-4783-969d-dac0faceb812",
    "outputId": "906f2a18-2fed-49aa-d8ec-6bf16b2c7ceb"
   },
   "outputs": [
    {
     "name": "stdout",
     "output_type": "stream",
     "text": [
      "Drive already mounted at /content/drive; to attempt to forcibly remount, call drive.mount(\"/content/drive\", force_remount=True).\n"
     ]
    }
   ],
   "source": [
    "# Cargando dataframe\n",
    "drive.mount('/content/drive')\n",
    "dataframe = pd.read_excel('/content/drive/My Drive/Colab Notebooks/AprendizajeAutomatico/DataSet/15_3_01_Energia_electrica_consumida_por_tipo_usuario-5.xlsx', sheet_name=\"Total TDF\", header=3)"
   ]
  },
  {
   "cell_type": "markdown",
   "id": "e6b5bd3c-4e4d-40e1-9ae9-50ce6300c5c9",
   "metadata": {
    "id": "e6b5bd3c-4e4d-40e1-9ae9-50ce6300c5c9"
   },
   "source": [
    "# **Exploración inicial de datos**"
   ]
  },
  {
   "cell_type": "code",
   "execution_count": 3,
   "id": "0fbd0a3a-4a51-4f69-ad8e-bb096a82af40",
   "metadata": {
    "colab": {
     "base_uri": "https://localhost:8080/"
    },
    "id": "0fbd0a3a-4a51-4f69-ad8e-bb096a82af40",
    "outputId": "19dbf6f8-065d-4b76-9606-72a6e46d05da"
   },
   "outputs": [
    {
     "name": "stdout",
     "output_type": "stream",
     "text": [
      "Cantidad de instancias: 182\n",
      "Cantidad de columnas: 8\n"
     ]
    }
   ],
   "source": [
    "# Visualización  de cantidad de instancias y columnas.\n",
    "num_instancias, num_columnas = dataframe.shape\n",
    "print(f'Cantidad de instancias: {num_instancias}')\n",
    "print(f'Cantidad de columnas: {num_columnas}')"
   ]
  },
  {
   "cell_type": "code",
   "execution_count": 4,
   "id": "713b6d41-bf35-4f3e-8bf9-daee1cb5fec7",
   "metadata": {
    "colab": {
     "base_uri": "https://localhost:8080/"
    },
    "id": "713b6d41-bf35-4f3e-8bf9-daee1cb5fec7",
    "outputId": "cc8497ab-79cf-4afd-e239-80287be35449"
   },
   "outputs": [
    {
     "name": "stdout",
     "output_type": "stream",
     "text": [
      "Unnamed: 0              object\n",
      "Período                 object\n",
      "Total                   object\n",
      "Grandes \\nDemandas      object\n",
      "Medianas \\nDemandas     object\n",
      "Uso\\n Residencial       object\n",
      "Uso \\nGeneral           object\n",
      "Alumbrado \\nPúblico     object\n",
      "dtype: object\n",
      "______________\n",
      "  Unnamed: 0  Período     Total Grandes \\nDemandas Medianas \\nDemandas  \\\n",
      "0        NaN      NaN       kWh                NaN                 NaN   \n",
      "1        NaN      NaN       NaN                NaN                 NaN   \n",
      "2       2010    Enero  28389813           14295431             1895533   \n",
      "3        NaN  Febrero  29604832           14258851             2454954   \n",
      "4        NaN    Marzo  31100802           16086916             2404916   \n",
      "\n",
      "  Uso\\n Residencial Uso \\nGeneral Alumbrado \\nPúblico   \n",
      "0               NaN           NaN                  NaN  \n",
      "1               NaN           NaN                  NaN  \n",
      "2           8505506       2752545               940798  \n",
      "3           7957003       3910403              1023621  \n",
      "4           8382174       2837123              1389673  \n",
      "______________\n",
      "        Unnamed: 0 Período Total Grandes \\nDemandas Medianas \\nDemandas  \\\n",
      "count           18     175   176                175                 175   \n",
      "unique          18      20   175                174                 174   \n",
      "top           2010    Mayo   ...                ...                 ...   \n",
      "freq             1      15     2                  2                   2   \n",
      "\n",
      "       Uso\\n Residencial Uso \\nGeneral Alumbrado \\nPúblico   \n",
      "count                175           175                  175  \n",
      "unique               174           174                  170  \n",
      "top                  ...           ...                  ...  \n",
      "freq                   2             2                    2  \n"
     ]
    }
   ],
   "source": [
    "# Tipo de datos, Muestreo y Estadísticas descriptivas\n",
    "print(dataframe.dtypes)\n",
    "print(\"______________\")\n",
    "print(dataframe.head())\n",
    "print(\"______________\")\n",
    "print(dataframe.describe())"
   ]
  },
  {
   "cell_type": "markdown",
   "id": "ff6be519-bbe8-4d46-9a1f-6773c80bbc5b",
   "metadata": {
    "id": "ff6be519-bbe8-4d46-9a1f-6773c80bbc5b"
   },
   "source": [
    "# **Correción y limpieza del Dataset**"
   ]
  },
  {
   "cell_type": "code",
   "execution_count": 5,
   "id": "ad14a89d-1e38-471d-aece-be92aad83c83",
   "metadata": {
    "colab": {
     "base_uri": "https://localhost:8080/",
     "height": 206
    },
    "id": "ad14a89d-1e38-471d-aece-be92aad83c83",
    "outputId": "e27d6fd1-abb2-404a-fca9-040485be3ad7"
   },
   "outputs": [
    {
     "data": {
      "application/vnd.google.colaboratory.intrinsic+json": {
       "summary": "{\n  \"name\": \"dataframe\",\n  \"rows\": 180,\n  \"fields\": [\n    {\n      \"column\": \"index\",\n      \"properties\": {\n        \"dtype\": \"number\",\n        \"std\": 52,\n        \"min\": 2,\n        \"max\": 181,\n        \"num_unique_values\": 180,\n        \"samples\": [\n          21,\n          44,\n          155\n        ],\n        \"semantic_type\": \"\",\n        \"description\": \"\"\n      }\n    },\n    {\n      \"column\": \"Unnamed: 0\",\n      \"properties\": {\n        \"dtype\": \"category\",\n        \"num_unique_values\": 18,\n        \"samples\": [\n          2010,\n          2011,\n          2018\n        ],\n        \"semantic_type\": \"\",\n        \"description\": \"\"\n      }\n    },\n    {\n      \"column\": \"Per\\u00edodo\",\n      \"properties\": {\n        \"dtype\": \"category\",\n        \"num_unique_values\": 20,\n        \"samples\": [\n          \"Enero\",\n          \"Febrero \",\n          \"Diciembre \"\n        ],\n        \"semantic_type\": \"\",\n        \"description\": \"\"\n      }\n    },\n    {\n      \"column\": \"Total\",\n      \"properties\": {\n        \"dtype\": \"string\",\n        \"num_unique_values\": 174,\n        \"samples\": [\n          45775029,\n          47711786,\n          43189304\n        ],\n        \"semantic_type\": \"\",\n        \"description\": \"\"\n      }\n    },\n    {\n      \"column\": \"Grandes \\nDemandas\",\n      \"properties\": {\n        \"dtype\": \"string\",\n        \"num_unique_values\": 174,\n        \"samples\": [\n          23577044,\n          26469420,\n          19941290\n        ],\n        \"semantic_type\": \"\",\n        \"description\": \"\"\n      }\n    },\n    {\n      \"column\": \"Medianas \\nDemandas\",\n      \"properties\": {\n        \"dtype\": \"string\",\n        \"num_unique_values\": 174,\n        \"samples\": [\n          2571971,\n          2500246,\n          2968131\n        ],\n        \"semantic_type\": \"\",\n        \"description\": \"\"\n      }\n    },\n    {\n      \"column\": \"Uso\\n Residencial\",\n      \"properties\": {\n        \"dtype\": \"string\",\n        \"num_unique_values\": 174,\n        \"samples\": [\n          13692102,\n          12807304,\n          13346734\n        ],\n        \"semantic_type\": \"\",\n        \"description\": \"\"\n      }\n    },\n    {\n      \"column\": \"Uso \\nGeneral\",\n      \"properties\": {\n        \"dtype\": \"string\",\n        \"num_unique_values\": 174,\n        \"samples\": [\n          4949183,\n          4898945,\n          4667293\n        ],\n        \"semantic_type\": \"\",\n        \"description\": \"\"\n      }\n    },\n    {\n      \"column\": \"Alumbrado \\nP\\u00fablico \",\n      \"properties\": {\n        \"dtype\": \"string\",\n        \"num_unique_values\": 170,\n        \"samples\": [\n          2090180,\n          2187882,\n          980648\n        ],\n        \"semantic_type\": \"\",\n        \"description\": \"\"\n      }\n    }\n  ]\n}",
       "type": "dataframe",
       "variable_name": "dataframe"
      },
      "text/html": [
       "\n",
       "  <div id=\"df-94b69a47-f8f5-47c6-b2ee-d9167f3af3d5\" class=\"colab-df-container\">\n",
       "    <div>\n",
       "<style scoped>\n",
       "    .dataframe tbody tr th:only-of-type {\n",
       "        vertical-align: middle;\n",
       "    }\n",
       "\n",
       "    .dataframe tbody tr th {\n",
       "        vertical-align: top;\n",
       "    }\n",
       "\n",
       "    .dataframe thead th {\n",
       "        text-align: right;\n",
       "    }\n",
       "</style>\n",
       "<table border=\"1\" class=\"dataframe\">\n",
       "  <thead>\n",
       "    <tr style=\"text-align: right;\">\n",
       "      <th></th>\n",
       "      <th>index</th>\n",
       "      <th>Unnamed: 0</th>\n",
       "      <th>Período</th>\n",
       "      <th>Total</th>\n",
       "      <th>Grandes \\nDemandas</th>\n",
       "      <th>Medianas \\nDemandas</th>\n",
       "      <th>Uso\\n Residencial</th>\n",
       "      <th>Uso \\nGeneral</th>\n",
       "      <th>Alumbrado \\nPúblico</th>\n",
       "    </tr>\n",
       "  </thead>\n",
       "  <tbody>\n",
       "    <tr>\n",
       "      <th>0</th>\n",
       "      <td>2</td>\n",
       "      <td>2010</td>\n",
       "      <td>Enero</td>\n",
       "      <td>28389813</td>\n",
       "      <td>14295431</td>\n",
       "      <td>1895533</td>\n",
       "      <td>8505506</td>\n",
       "      <td>2752545</td>\n",
       "      <td>940798</td>\n",
       "    </tr>\n",
       "    <tr>\n",
       "      <th>1</th>\n",
       "      <td>3</td>\n",
       "      <td>NaN</td>\n",
       "      <td>Febrero</td>\n",
       "      <td>29604832</td>\n",
       "      <td>14258851</td>\n",
       "      <td>2454954</td>\n",
       "      <td>7957003</td>\n",
       "      <td>3910403</td>\n",
       "      <td>1023621</td>\n",
       "    </tr>\n",
       "    <tr>\n",
       "      <th>2</th>\n",
       "      <td>4</td>\n",
       "      <td>NaN</td>\n",
       "      <td>Marzo</td>\n",
       "      <td>31100802</td>\n",
       "      <td>16086916</td>\n",
       "      <td>2404916</td>\n",
       "      <td>8382174</td>\n",
       "      <td>2837123</td>\n",
       "      <td>1389673</td>\n",
       "    </tr>\n",
       "    <tr>\n",
       "      <th>3</th>\n",
       "      <td>5</td>\n",
       "      <td>NaN</td>\n",
       "      <td>Abril</td>\n",
       "      <td>34441839</td>\n",
       "      <td>15568924</td>\n",
       "      <td>2991200</td>\n",
       "      <td>9663763</td>\n",
       "      <td>4604950</td>\n",
       "      <td>1613002</td>\n",
       "    </tr>\n",
       "    <tr>\n",
       "      <th>4</th>\n",
       "      <td>6</td>\n",
       "      <td>NaN</td>\n",
       "      <td>Mayo</td>\n",
       "      <td>32849499</td>\n",
       "      <td>15230025</td>\n",
       "      <td>2664536</td>\n",
       "      <td>9744634</td>\n",
       "      <td>3245695</td>\n",
       "      <td>1964609</td>\n",
       "    </tr>\n",
       "  </tbody>\n",
       "</table>\n",
       "</div>\n",
       "    <div class=\"colab-df-buttons\">\n",
       "\n",
       "  <div class=\"colab-df-container\">\n",
       "    <button class=\"colab-df-convert\" onclick=\"convertToInteractive('df-94b69a47-f8f5-47c6-b2ee-d9167f3af3d5')\"\n",
       "            title=\"Convert this dataframe to an interactive table.\"\n",
       "            style=\"display:none;\">\n",
       "\n",
       "  <svg xmlns=\"http://www.w3.org/2000/svg\" height=\"24px\" viewBox=\"0 -960 960 960\">\n",
       "    <path d=\"M120-120v-720h720v720H120Zm60-500h600v-160H180v160Zm220 220h160v-160H400v160Zm0 220h160v-160H400v160ZM180-400h160v-160H180v160Zm440 0h160v-160H620v160ZM180-180h160v-160H180v160Zm440 0h160v-160H620v160Z\"/>\n",
       "  </svg>\n",
       "    </button>\n",
       "\n",
       "  <style>\n",
       "    .colab-df-container {\n",
       "      display:flex;\n",
       "      gap: 12px;\n",
       "    }\n",
       "\n",
       "    .colab-df-convert {\n",
       "      background-color: #E8F0FE;\n",
       "      border: none;\n",
       "      border-radius: 50%;\n",
       "      cursor: pointer;\n",
       "      display: none;\n",
       "      fill: #1967D2;\n",
       "      height: 32px;\n",
       "      padding: 0 0 0 0;\n",
       "      width: 32px;\n",
       "    }\n",
       "\n",
       "    .colab-df-convert:hover {\n",
       "      background-color: #E2EBFA;\n",
       "      box-shadow: 0px 1px 2px rgba(60, 64, 67, 0.3), 0px 1px 3px 1px rgba(60, 64, 67, 0.15);\n",
       "      fill: #174EA6;\n",
       "    }\n",
       "\n",
       "    .colab-df-buttons div {\n",
       "      margin-bottom: 4px;\n",
       "    }\n",
       "\n",
       "    [theme=dark] .colab-df-convert {\n",
       "      background-color: #3B4455;\n",
       "      fill: #D2E3FC;\n",
       "    }\n",
       "\n",
       "    [theme=dark] .colab-df-convert:hover {\n",
       "      background-color: #434B5C;\n",
       "      box-shadow: 0px 1px 3px 1px rgba(0, 0, 0, 0.15);\n",
       "      filter: drop-shadow(0px 1px 2px rgba(0, 0, 0, 0.3));\n",
       "      fill: #FFFFFF;\n",
       "    }\n",
       "  </style>\n",
       "\n",
       "    <script>\n",
       "      const buttonEl =\n",
       "        document.querySelector('#df-94b69a47-f8f5-47c6-b2ee-d9167f3af3d5 button.colab-df-convert');\n",
       "      buttonEl.style.display =\n",
       "        google.colab.kernel.accessAllowed ? 'block' : 'none';\n",
       "\n",
       "      async function convertToInteractive(key) {\n",
       "        const element = document.querySelector('#df-94b69a47-f8f5-47c6-b2ee-d9167f3af3d5');\n",
       "        const dataTable =\n",
       "          await google.colab.kernel.invokeFunction('convertToInteractive',\n",
       "                                                    [key], {});\n",
       "        if (!dataTable) return;\n",
       "\n",
       "        const docLinkHtml = 'Like what you see? Visit the ' +\n",
       "          '<a target=\"_blank\" href=https://colab.research.google.com/notebooks/data_table.ipynb>data table notebook</a>'\n",
       "          + ' to learn more about interactive tables.';\n",
       "        element.innerHTML = '';\n",
       "        dataTable['output_type'] = 'display_data';\n",
       "        await google.colab.output.renderOutput(dataTable, element);\n",
       "        const docLink = document.createElement('div');\n",
       "        docLink.innerHTML = docLinkHtml;\n",
       "        element.appendChild(docLink);\n",
       "      }\n",
       "    </script>\n",
       "  </div>\n",
       "\n",
       "\n",
       "<div id=\"df-be4ff3a1-5049-48ff-be17-b64db3fe58be\">\n",
       "  <button class=\"colab-df-quickchart\" onclick=\"quickchart('df-be4ff3a1-5049-48ff-be17-b64db3fe58be')\"\n",
       "            title=\"Suggest charts\"\n",
       "            style=\"display:none;\">\n",
       "\n",
       "<svg xmlns=\"http://www.w3.org/2000/svg\" height=\"24px\"viewBox=\"0 0 24 24\"\n",
       "     width=\"24px\">\n",
       "    <g>\n",
       "        <path d=\"M19 3H5c-1.1 0-2 .9-2 2v14c0 1.1.9 2 2 2h14c1.1 0 2-.9 2-2V5c0-1.1-.9-2-2-2zM9 17H7v-7h2v7zm4 0h-2V7h2v10zm4 0h-2v-4h2v4z\"/>\n",
       "    </g>\n",
       "</svg>\n",
       "  </button>\n",
       "\n",
       "<style>\n",
       "  .colab-df-quickchart {\n",
       "      --bg-color: #E8F0FE;\n",
       "      --fill-color: #1967D2;\n",
       "      --hover-bg-color: #E2EBFA;\n",
       "      --hover-fill-color: #174EA6;\n",
       "      --disabled-fill-color: #AAA;\n",
       "      --disabled-bg-color: #DDD;\n",
       "  }\n",
       "\n",
       "  [theme=dark] .colab-df-quickchart {\n",
       "      --bg-color: #3B4455;\n",
       "      --fill-color: #D2E3FC;\n",
       "      --hover-bg-color: #434B5C;\n",
       "      --hover-fill-color: #FFFFFF;\n",
       "      --disabled-bg-color: #3B4455;\n",
       "      --disabled-fill-color: #666;\n",
       "  }\n",
       "\n",
       "  .colab-df-quickchart {\n",
       "    background-color: var(--bg-color);\n",
       "    border: none;\n",
       "    border-radius: 50%;\n",
       "    cursor: pointer;\n",
       "    display: none;\n",
       "    fill: var(--fill-color);\n",
       "    height: 32px;\n",
       "    padding: 0;\n",
       "    width: 32px;\n",
       "  }\n",
       "\n",
       "  .colab-df-quickchart:hover {\n",
       "    background-color: var(--hover-bg-color);\n",
       "    box-shadow: 0 1px 2px rgba(60, 64, 67, 0.3), 0 1px 3px 1px rgba(60, 64, 67, 0.15);\n",
       "    fill: var(--button-hover-fill-color);\n",
       "  }\n",
       "\n",
       "  .colab-df-quickchart-complete:disabled,\n",
       "  .colab-df-quickchart-complete:disabled:hover {\n",
       "    background-color: var(--disabled-bg-color);\n",
       "    fill: var(--disabled-fill-color);\n",
       "    box-shadow: none;\n",
       "  }\n",
       "\n",
       "  .colab-df-spinner {\n",
       "    border: 2px solid var(--fill-color);\n",
       "    border-color: transparent;\n",
       "    border-bottom-color: var(--fill-color);\n",
       "    animation:\n",
       "      spin 1s steps(1) infinite;\n",
       "  }\n",
       "\n",
       "  @keyframes spin {\n",
       "    0% {\n",
       "      border-color: transparent;\n",
       "      border-bottom-color: var(--fill-color);\n",
       "      border-left-color: var(--fill-color);\n",
       "    }\n",
       "    20% {\n",
       "      border-color: transparent;\n",
       "      border-left-color: var(--fill-color);\n",
       "      border-top-color: var(--fill-color);\n",
       "    }\n",
       "    30% {\n",
       "      border-color: transparent;\n",
       "      border-left-color: var(--fill-color);\n",
       "      border-top-color: var(--fill-color);\n",
       "      border-right-color: var(--fill-color);\n",
       "    }\n",
       "    40% {\n",
       "      border-color: transparent;\n",
       "      border-right-color: var(--fill-color);\n",
       "      border-top-color: var(--fill-color);\n",
       "    }\n",
       "    60% {\n",
       "      border-color: transparent;\n",
       "      border-right-color: var(--fill-color);\n",
       "    }\n",
       "    80% {\n",
       "      border-color: transparent;\n",
       "      border-right-color: var(--fill-color);\n",
       "      border-bottom-color: var(--fill-color);\n",
       "    }\n",
       "    90% {\n",
       "      border-color: transparent;\n",
       "      border-bottom-color: var(--fill-color);\n",
       "    }\n",
       "  }\n",
       "</style>\n",
       "\n",
       "  <script>\n",
       "    async function quickchart(key) {\n",
       "      const quickchartButtonEl =\n",
       "        document.querySelector('#' + key + ' button');\n",
       "      quickchartButtonEl.disabled = true;  // To prevent multiple clicks.\n",
       "      quickchartButtonEl.classList.add('colab-df-spinner');\n",
       "      try {\n",
       "        const charts = await google.colab.kernel.invokeFunction(\n",
       "            'suggestCharts', [key], {});\n",
       "      } catch (error) {\n",
       "        console.error('Error during call to suggestCharts:', error);\n",
       "      }\n",
       "      quickchartButtonEl.classList.remove('colab-df-spinner');\n",
       "      quickchartButtonEl.classList.add('colab-df-quickchart-complete');\n",
       "    }\n",
       "    (() => {\n",
       "      let quickchartButtonEl =\n",
       "        document.querySelector('#df-be4ff3a1-5049-48ff-be17-b64db3fe58be button');\n",
       "      quickchartButtonEl.style.display =\n",
       "        google.colab.kernel.accessAllowed ? 'block' : 'none';\n",
       "    })();\n",
       "  </script>\n",
       "</div>\n",
       "\n",
       "    </div>\n",
       "  </div>\n"
      ],
      "text/plain": [
       "   index Unnamed: 0  Período     Total Grandes \\nDemandas Medianas \\nDemandas  \\\n",
       "0      2       2010    Enero  28389813           14295431             1895533   \n",
       "1      3        NaN  Febrero  29604832           14258851             2454954   \n",
       "2      4        NaN    Marzo  31100802           16086916             2404916   \n",
       "3      5        NaN    Abril  34441839           15568924             2991200   \n",
       "4      6        NaN     Mayo  32849499           15230025             2664536   \n",
       "\n",
       "  Uso\\n Residencial Uso \\nGeneral Alumbrado \\nPúblico   \n",
       "0           8505506       2752545               940798  \n",
       "1           7957003       3910403              1023621  \n",
       "2           8382174       2837123              1389673  \n",
       "3           9663763       4604950              1613002  \n",
       "4           9744634       3245695              1964609  "
      ]
     },
     "execution_count": 5,
     "metadata": {},
     "output_type": "execute_result"
    }
   ],
   "source": [
    "# Eliminar las filas 1 y 2 (índices 0 y 1)\n",
    "dataframe = dataframe.drop([0, 1]).reset_index(drop=False)\n",
    "dataframe.head()"
   ]
  },
  {
   "cell_type": "code",
   "execution_count": 6,
   "id": "c7f1a37a-0212-4794-bd03-b3fbd70ea287",
   "metadata": {
    "colab": {
     "base_uri": "https://localhost:8080/"
    },
    "id": "c7f1a37a-0212-4794-bd03-b3fbd70ea287",
    "outputId": "e5b64c67-f37c-46f3-953f-c178b80c9356"
   },
   "outputs": [
    {
     "name": "stdout",
     "output_type": "stream",
     "text": [
      "Index(['index', 'Año', 'Meses', 'Total', 'Grandes Demandas',\n",
      "       'Medianas Demandas', 'Uso Residencial', 'Uso General',\n",
      "       'Alumbrado Público'],\n",
      "      dtype='object')\n"
     ]
    }
   ],
   "source": [
    "# Renombrar características\n",
    "dataframe = dataframe.rename(columns={\n",
    "    \"Unnamed: 0\": \"Año\",\n",
    "    \"Período\": \"Meses\",\n",
    "    \"Grandes \\nDemandas\": \"Grandes Demandas\",\n",
    "    \"Medianas \\nDemandas\": \"Medianas Demandas\",\n",
    "    \"Uso\\n Residencial\": \"Uso Residencial\",\n",
    "    \"Uso \\nGeneral\": \"Uso General\",\n",
    "    \"Alumbrado \\nPúblico \": \"Alumbrado Público\"\n",
    "})\n",
    "\n",
    "print(dataframe.columns)"
   ]
  },
  {
   "cell_type": "code",
   "execution_count": 7,
   "id": "Q4sA4h53xhuc",
   "metadata": {
    "id": "Q4sA4h53xhuc"
   },
   "outputs": [],
   "source": [
    "# Verificar si existen caracteres tipo \"espacio\" en los valores.\n",
    "\n",
    "for column in dataframe.columns:\n",
    "    # Convertir a string para evitar errores con tipos no string\n",
    "    column_as_string = dataframe[column].astype(str)\n",
    "\n",
    "    # Detectar espacios al inicio\n",
    "    espacios_al_inicio = column_as_string.str.startswith(' ')\n",
    "\n",
    "    # Verificar si hay valores con espacios al inicio\n",
    "    if espacios_al_inicio.any():\n",
    "        valores_con_espacios_inicio = dataframe[espacios_al_inicio]\n",
    "        print(f\"\\nValores con espacios al inicio en '{column}':\")\n",
    "        print(valores_con_espacios_inicio)"
   ]
  },
  {
   "cell_type": "code",
   "execution_count": 8,
   "id": "3AjefwlUFiUJ",
   "metadata": {
    "colab": {
     "base_uri": "https://localhost:8080/"
    },
    "id": "3AjefwlUFiUJ",
    "outputId": "70e26c6b-ade3-4afc-b5c6-b435d780cc47"
   },
   "outputs": [
    {
     "name": "stdout",
     "output_type": "stream",
     "text": [
      "     index                                                Año    Meses  \\\n",
      "0        2                                               2010    Enero   \n",
      "1        3                                                NaN  Febrero   \n",
      "2        4                                                NaN    Marzo   \n",
      "3        5                                                NaN    Abril   \n",
      "4        6                                                NaN     Mayo   \n",
      "..     ...                                                ...      ...   \n",
      "175    177                                                NaN      NaN   \n",
      "176    178  Nota: Los años 2010 a 2016 no incluyen el cons...      NaN   \n",
      "177    179  ...Dato no disponible a la fecha de presentaci...      NaN   \n",
      "178    180                                                NaN      NaN   \n",
      "179    181  Fuente: Dirección Provincial de Energía Ushuai...      NaN   \n",
      "\n",
      "        Total Grandes Demandas Medianas Demandas Uso Residencial Uso General  \\\n",
      "0    28389813         14295431           1895533         8505506     2752545   \n",
      "1    29604832         14258851           2454954         7957003     3910403   \n",
      "2    31100802         16086916           2404916         8382174     2837123   \n",
      "3    34441839         15568924           2991200         9663763     4604950   \n",
      "4    32849499         15230025           2664536         9744634     3245695   \n",
      "..        ...              ...               ...             ...         ...   \n",
      "175       NaN              NaN               NaN             NaN         NaN   \n",
      "176       NaN              NaN               NaN             NaN         NaN   \n",
      "177       NaN              NaN               NaN             NaN         NaN   \n",
      "178       NaN              NaN               NaN             NaN         NaN   \n",
      "179       NaN              NaN               NaN             NaN         NaN   \n",
      "\n",
      "    Alumbrado Público  \n",
      "0              940798  \n",
      "1             1023621  \n",
      "2             1389673  \n",
      "3             1613002  \n",
      "4             1964609  \n",
      "..                ...  \n",
      "175               NaN  \n",
      "176               NaN  \n",
      "177               NaN  \n",
      "178               NaN  \n",
      "179               NaN  \n",
      "\n",
      "[180 rows x 9 columns]\n"
     ]
    },
    {
     "name": "stderr",
     "output_type": "stream",
     "text": [
      "<ipython-input-8-8d8a0c7dff76>:2: FutureWarning: DataFrame.applymap has been deprecated. Use DataFrame.map instead.\n",
      "  df = dataframe.applymap(lambda x: x.strip() if isinstance(x, str) else x)\n"
     ]
    }
   ],
   "source": [
    "# Eliminar espacios en blanco al principio y al final de todos los valores en el DataFrame\n",
    "df = dataframe.applymap(lambda x: x.strip() if isinstance(x, str) else x)\n",
    "\n",
    "# Mostrar el DataFrame actualizado\n",
    "print(dataframe)"
   ]
  },
  {
   "cell_type": "code",
   "execution_count": 9,
   "id": "cf58babc-f934-458f-8a0f-72b2ec461bc0",
   "metadata": {
    "id": "cf58babc-f934-458f-8a0f-72b2ec461bc0"
   },
   "outputs": [],
   "source": [
    "# Completar instancias de año vacias con el año correspondiente\n",
    "dataframe[\"Año\"] = dataframe[\"Año\"].ffill()"
   ]
  },
  {
   "cell_type": "code",
   "execution_count": 10,
   "id": "f44e80ce-759f-4f04-9fb9-029a5281abeb",
   "metadata": {
    "id": "f44e80ce-759f-4f04-9fb9-029a5281abeb"
   },
   "outputs": [],
   "source": [
    "# Renombrar los nombres de meses con números enteros.\n",
    "\n",
    "# Eliminar espacios en blanco al principio y al final de los nombres de los meses\n",
    "dataframe['Meses'] = dataframe['Meses'].str.strip()\n",
    "\n",
    "# Convertir nombre de meses a numeros\n",
    "meses_a_numeros = {\n",
    "    'Enero': 1, 'Febrero': 2, 'Marzo': 3, 'Abril': 4,\n",
    "    'Mayo': 5, 'Junio': 6, 'Julio': 7, 'Agosto': 8,\n",
    "    'Septiembre': 9, 'Octubre': 10, 'Noviembre': 11, 'Diciembre': 12\n",
    "}\n",
    "\n",
    "dataframe['Meses'] = dataframe['Meses'].map(meses_a_numeros)\n"
   ]
  },
  {
   "cell_type": "code",
   "execution_count": 11,
   "id": "0b0b097e-9b5c-47ce-997d-85a31097d96b",
   "metadata": {
    "colab": {
     "base_uri": "https://localhost:8080/"
    },
    "id": "0b0b097e-9b5c-47ce-997d-85a31097d96b",
    "outputId": "a1a5c384-5326-4565-b9f7-be7ceace61a1"
   },
   "outputs": [
    {
     "name": "stdout",
     "output_type": "stream",
     "text": [
      "index                0\n",
      "Año                  0\n",
      "Meses                5\n",
      "Total                5\n",
      "Grandes Demandas     5\n",
      "Medianas Demandas    5\n",
      "Uso Residencial      5\n",
      "Uso General          5\n",
      "Alumbrado Público    5\n",
      "dtype: int64\n"
     ]
    }
   ],
   "source": [
    "# Calcula el numero de valores nullos de cada columna\n",
    "null_counts = dataframe.isnull().sum()\n",
    "print(null_counts)"
   ]
  },
  {
   "cell_type": "code",
   "execution_count": 12,
   "id": "fa136f2f-1676-4159-aa75-a5fc373dea89",
   "metadata": {
    "colab": {
     "base_uri": "https://localhost:8080/"
    },
    "id": "fa136f2f-1676-4159-aa75-a5fc373dea89",
    "outputId": "8529d51c-ae3c-4b0a-c286-632694027591"
   },
   "outputs": [
    {
     "name": "stdout",
     "output_type": "stream",
     "text": [
      "     index                                                Año  Meses Total  \\\n",
      "175    177                                               2024    NaN   NaN   \n",
      "176    178  Nota: Los años 2010 a 2016 no incluyen el cons...    NaN   NaN   \n",
      "177    179  ...Dato no disponible a la fecha de presentaci...    NaN   NaN   \n",
      "178    180  ...Dato no disponible a la fecha de presentaci...    NaN   NaN   \n",
      "179    181  Fuente: Dirección Provincial de Energía Ushuai...    NaN   NaN   \n",
      "\n",
      "    Grandes Demandas Medianas Demandas Uso Residencial Uso General  \\\n",
      "175              NaN               NaN             NaN         NaN   \n",
      "176              NaN               NaN             NaN         NaN   \n",
      "177              NaN               NaN             NaN         NaN   \n",
      "178              NaN               NaN             NaN         NaN   \n",
      "179              NaN               NaN             NaN         NaN   \n",
      "\n",
      "    Alumbrado Público  \n",
      "175               NaN  \n",
      "176               NaN  \n",
      "177               NaN  \n",
      "178               NaN  \n",
      "179               NaN  \n"
     ]
    }
   ],
   "source": [
    "# Vemos las instancias nulas almacenadas en \"filas_nulas\"\n",
    "filas_nulas = dataframe[dataframe.isnull().any(axis=1)]\n",
    "print(filas_nulas)"
   ]
  },
  {
   "cell_type": "code",
   "execution_count": 13,
   "id": "1ce00d05-49ff-4922-8297-478564ed4d3e",
   "metadata": {
    "id": "1ce00d05-49ff-4922-8297-478564ed4d3e"
   },
   "outputs": [],
   "source": [
    "# Eliminar las filas nulas de la variable creada \"filas_nulas\" del DataFrame original\n",
    "dataframe = dataframe.drop(filas_nulas.index)"
   ]
  },
  {
   "cell_type": "code",
   "execution_count": 14,
   "id": "e4cb95ff-f39f-4952-b2fa-694f3068cd73",
   "metadata": {
    "colab": {
     "base_uri": "https://localhost:8080/"
    },
    "id": "e4cb95ff-f39f-4952-b2fa-694f3068cd73",
    "outputId": "2265e7be-f817-4258-aad6-e87a172beee2"
   },
   "outputs": [
    {
     "name": "stdout",
     "output_type": "stream",
     "text": [
      "index                0\n",
      "Año                  0\n",
      "Meses                0\n",
      "Total                0\n",
      "Grandes Demandas     0\n",
      "Medianas Demandas    0\n",
      "Uso Residencial      0\n",
      "Uso General          0\n",
      "Alumbrado Público    0\n",
      "dtype: int64\n"
     ]
    }
   ],
   "source": [
    "# Verificación nuevamente de filas_nulas\n",
    "null_counts = dataframe.isnull().sum()\n",
    "print(null_counts)"
   ]
  },
  {
   "cell_type": "code",
   "execution_count": 15,
   "id": "95af32bc-010c-4f88-b99e-4b62cab4e86f",
   "metadata": {
    "colab": {
     "base_uri": "https://localhost:8080/"
    },
    "id": "95af32bc-010c-4f88-b99e-4b62cab4e86f",
    "outputId": "7bdf2aea-2246-4767-94c3-790e5ba8a118"
   },
   "outputs": [
    {
     "name": "stdout",
     "output_type": "stream",
     "text": [
      "index                  int64\n",
      "Año                   object\n",
      "Meses                float64\n",
      "Total                 object\n",
      "Grandes Demandas      object\n",
      "Medianas Demandas     object\n",
      "Uso Residencial       object\n",
      "Uso General           object\n",
      "Alumbrado Público     object\n",
      "dtype: object\n"
     ]
    }
   ],
   "source": [
    "# Visualizar el tipo de dato de cada columna\n",
    "print(dataframe.dtypes)"
   ]
  },
  {
   "cell_type": "code",
   "execution_count": 16,
   "id": "1bdb12c3-3317-4921-8d7f-844f3bcb91c3",
   "metadata": {
    "colab": {
     "base_uri": "https://localhost:8080/"
    },
    "id": "1bdb12c3-3317-4921-8d7f-844f3bcb91c3",
    "outputId": "4a254f16-f382-4b64-f2b2-c71cc6b7a695"
   },
   "outputs": [
    {
     "name": "stdout",
     "output_type": "stream",
     "text": [
      "   index   Año  Meses     Total Grandes Demandas Medianas Demandas  \\\n",
      "0      2  2010    1.0  28389813         14295431           1895533   \n",
      "1      3  2010    2.0  29604832         14258851           2454954   \n",
      "2      4  2010    3.0  31100802         16086916           2404916   \n",
      "3      5  2010    4.0  34441839         15568924           2991200   \n",
      "4      6  2010    5.0  32849499         15230025           2664536   \n",
      "\n",
      "  Uso Residencial Uso General Alumbrado Público  \n",
      "0         8505506     2752545            940798  \n",
      "1         7957003     3910403           1023621  \n",
      "2         8382174     2837123           1389673  \n",
      "3         9663763     4604950           1613002  \n",
      "4         9744634     3245695           1964609  \n"
     ]
    }
   ],
   "source": [
    "# Lista de columnas en las que deseas realizar el reemplazo\n",
    "columns_to_replace = [\n",
    "    'Año',\n",
    "    'Total',\n",
    "    'Grandes Demandas',\n",
    "    'Medianas Demandas',\n",
    "    'Uso Residencial',\n",
    "    'Alumbrado Público'\n",
    "]\n",
    "\n",
    "# Reemplazar valores no válidos por NaN en las columnas especificadas usando loc\n",
    "for column in columns_to_replace:\n",
    "    dataframe.loc[dataframe[column] == '...', column] = np.nan\n",
    "\n",
    "# Verificar el resultado\n",
    "print(dataframe.head())"
   ]
  },
  {
   "cell_type": "code",
   "execution_count": 17,
   "id": "1LX7-_sbj8eS",
   "metadata": {
    "colab": {
     "base_uri": "https://localhost:8080/"
    },
    "id": "1LX7-_sbj8eS",
    "outputId": "0c57797e-dafe-4795-ca8c-e1b74736a673"
   },
   "outputs": [
    {
     "name": "stdout",
     "output_type": "stream",
     "text": [
      "Index(['Año', 'Meses', 'Total', 'Grandes Demandas', 'Medianas Demandas',\n",
      "       'Uso Residencial', 'Uso General', 'Alumbrado Público'],\n",
      "      dtype='object')\n"
     ]
    }
   ],
   "source": [
    "# Eliminación de la columna 'index'\n",
    "dataframe = dataframe.drop(columns=['index'])\n",
    "print(dataframe.columns)"
   ]
  },
  {
   "cell_type": "code",
   "execution_count": 18,
   "id": "2b170d55-cf9e-4187-8686-179d62be9d4c",
   "metadata": {
    "id": "2b170d55-cf9e-4187-8686-179d62be9d4c"
   },
   "outputs": [],
   "source": [
    "# Eliminar filas con cualquier valor NaN\n",
    "dataframe = dataframe.dropna()"
   ]
  },
  {
   "cell_type": "code",
   "execution_count": 19,
   "id": "4c3261b2-93e5-47de-9fd0-d2467e9f1aee",
   "metadata": {
    "colab": {
     "base_uri": "https://localhost:8080/"
    },
    "id": "4c3261b2-93e5-47de-9fd0-d2467e9f1aee",
    "outputId": "efd4bf39-5ebd-4c6f-db03-bf78a97a6868"
   },
   "outputs": [
    {
     "name": "stdout",
     "output_type": "stream",
     "text": [
      "Año                    int64\n",
      "Meses                float64\n",
      "Total                float64\n",
      "Grandes Demandas     float64\n",
      "Medianas Demandas    float64\n",
      "Uso Residencial      float64\n",
      "Uso General          float64\n",
      "Alumbrado Público    float64\n",
      "dtype: object\n"
     ]
    }
   ],
   "source": [
    "# Cambiar el tipo de datos de las columnas especificadas\n",
    "dataframe['Año'] = dataframe['Año'].astype(int)\n",
    "dataframe['Total'] = dataframe['Total'].astype(float)\n",
    "dataframe['Grandes Demandas'] = dataframe['Grandes Demandas'].astype(float)\n",
    "dataframe['Medianas Demandas'] = dataframe['Medianas Demandas'].astype(float)\n",
    "dataframe['Uso Residencial'] = dataframe['Uso Residencial'].astype(float)\n",
    "dataframe['Uso General'] = dataframe['Uso Residencial'].astype(float)\n",
    "dataframe['Alumbrado Público'] = dataframe['Alumbrado Público'].astype(float)\n",
    "\n",
    "# Verificar los tipos de datos\n",
    "print(dataframe.dtypes)"
   ]
  },
  {
   "cell_type": "code",
   "execution_count": 20,
   "id": "bd7b97b3-644e-45fa-ab82-b889ced28ba5",
   "metadata": {
    "colab": {
     "base_uri": "https://localhost:8080/"
    },
    "id": "bd7b97b3-644e-45fa-ab82-b889ced28ba5",
    "outputId": "b6f405f7-8146-4b46-b15a-af802cd74a29"
   },
   "outputs": [
    {
     "name": "stdout",
     "output_type": "stream",
     "text": [
      "Cantidad de instancias y columnas: (173, 8)\n"
     ]
    }
   ],
   "source": [
    "# Verificar nuevamente cantidad de instancias y columnas\n",
    "print(\"Cantidad de instancias y columnas:\", dataframe.shape)"
   ]
  },
  {
   "cell_type": "code",
   "execution_count": 21,
   "id": "r7P4ObpQLgmI",
   "metadata": {
    "colab": {
     "base_uri": "https://localhost:8080/",
     "height": 300
    },
    "id": "r7P4ObpQLgmI",
    "outputId": "75456a6f-135f-42b7-feb9-8c4fa677293b"
   },
   "outputs": [
    {
     "data": {
      "application/vnd.google.colaboratory.intrinsic+json": {
       "summary": "{\n  \"name\": \"dataframe\",\n  \"rows\": 8,\n  \"fields\": [\n    {\n      \"column\": \"A\\u00f1o\",\n      \"properties\": {\n        \"dtype\": \"number\",\n        \"std\": 893.7311754238967,\n        \"min\": 4.17851744828238,\n        \"max\": 2024.0,\n        \"num_unique_values\": 8,\n        \"samples\": [\n          2016.7167630057804,\n          2017.0,\n          173.0\n        ],\n        \"semantic_type\": \"\",\n        \"description\": \"\"\n      }\n    },\n    {\n      \"column\": \"Meses\",\n      \"properties\": {\n        \"dtype\": \"number\",\n        \"std\": 59.20362375516015,\n        \"min\": 1.0,\n        \"max\": 173.0,\n        \"num_unique_values\": 8,\n        \"samples\": [\n          6.398843930635838,\n          6.0,\n          173.0\n        ],\n        \"semantic_type\": \"\",\n        \"description\": \"\"\n      }\n    },\n    {\n      \"column\": \"Total\",\n      \"properties\": {\n        \"dtype\": \"number\",\n        \"std\": 20293587.74355171,\n        \"min\": 173.0,\n        \"max\": 59171657.0,\n        \"num_unique_values\": 8,\n        \"samples\": [\n          42262253.06966474,\n          42539710.056,\n          173.0\n        ],\n        \"semantic_type\": \"\",\n        \"description\": \"\"\n      }\n    },\n    {\n      \"column\": \"Grandes Demandas\",\n      \"properties\": {\n        \"dtype\": \"number\",\n        \"std\": 10635721.203726023,\n        \"min\": 173.0,\n        \"max\": 31902331.0,\n        \"num_unique_values\": 8,\n        \"samples\": [\n          21729841.865895953,\n          21128811.0,\n          173.0\n        ],\n        \"semantic_type\": \"\",\n        \"description\": \"\"\n      }\n    },\n    {\n      \"column\": \"Medianas Demandas\",\n      \"properties\": {\n        \"dtype\": \"number\",\n        \"std\": 1282549.490004991,\n        \"min\": 173.0,\n        \"max\": 3504559.0,\n        \"num_unique_values\": 8,\n        \"samples\": [\n          2720410.0894219656,\n          2699705.0,\n          173.0\n        ],\n        \"semantic_type\": \"\",\n        \"description\": \"\"\n      }\n    },\n    {\n      \"column\": \"Uso Residencial\",\n      \"properties\": {\n        \"dtype\": \"number\",\n        \"std\": 5608905.9837405505,\n        \"min\": 173.0,\n        \"max\": 16055349.0,\n        \"num_unique_values\": 8,\n        \"samples\": [\n          11895050.073872834,\n          11998624.0,\n          173.0\n        ],\n        \"semantic_type\": \"\",\n        \"description\": \"\"\n      }\n    },\n    {\n      \"column\": \"Uso General\",\n      \"properties\": {\n        \"dtype\": \"number\",\n        \"std\": 5608905.9837405505,\n        \"min\": 173.0,\n        \"max\": 16055349.0,\n        \"num_unique_values\": 8,\n        \"samples\": [\n          11895050.073872834,\n          11998624.0,\n          173.0\n        ],\n        \"semantic_type\": \"\",\n        \"description\": \"\"\n      }\n    },\n    {\n      \"column\": \"Alumbrado P\\u00fablico\",\n      \"properties\": {\n        \"dtype\": \"number\",\n        \"std\": 810178.6322216651,\n        \"min\": 173.0,\n        \"max\": 2410175.0,\n        \"num_unique_values\": 8,\n        \"samples\": [\n          1565562.6994913293,\n          1564510.0,\n          173.0\n        ],\n        \"semantic_type\": \"\",\n        \"description\": \"\"\n      }\n    }\n  ]\n}",
       "type": "dataframe"
      },
      "text/html": [
       "\n",
       "  <div id=\"df-2c55fad9-a114-433e-b71d-1bf9d90f1cf8\" class=\"colab-df-container\">\n",
       "    <div>\n",
       "<style scoped>\n",
       "    .dataframe tbody tr th:only-of-type {\n",
       "        vertical-align: middle;\n",
       "    }\n",
       "\n",
       "    .dataframe tbody tr th {\n",
       "        vertical-align: top;\n",
       "    }\n",
       "\n",
       "    .dataframe thead th {\n",
       "        text-align: right;\n",
       "    }\n",
       "</style>\n",
       "<table border=\"1\" class=\"dataframe\">\n",
       "  <thead>\n",
       "    <tr style=\"text-align: right;\">\n",
       "      <th></th>\n",
       "      <th>Año</th>\n",
       "      <th>Meses</th>\n",
       "      <th>Total</th>\n",
       "      <th>Grandes Demandas</th>\n",
       "      <th>Medianas Demandas</th>\n",
       "      <th>Uso Residencial</th>\n",
       "      <th>Uso General</th>\n",
       "      <th>Alumbrado Público</th>\n",
       "    </tr>\n",
       "  </thead>\n",
       "  <tbody>\n",
       "    <tr>\n",
       "      <th>count</th>\n",
       "      <td>173.000000</td>\n",
       "      <td>173.000000</td>\n",
       "      <td>1.730000e+02</td>\n",
       "      <td>1.730000e+02</td>\n",
       "      <td>1.730000e+02</td>\n",
       "      <td>1.730000e+02</td>\n",
       "      <td>1.730000e+02</td>\n",
       "      <td>1.730000e+02</td>\n",
       "    </tr>\n",
       "    <tr>\n",
       "      <th>mean</th>\n",
       "      <td>2016.716763</td>\n",
       "      <td>6.398844</td>\n",
       "      <td>4.226225e+07</td>\n",
       "      <td>2.172984e+07</td>\n",
       "      <td>2.720410e+06</td>\n",
       "      <td>1.189505e+07</td>\n",
       "      <td>1.189505e+07</td>\n",
       "      <td>1.565563e+06</td>\n",
       "    </tr>\n",
       "    <tr>\n",
       "      <th>std</th>\n",
       "      <td>4.178517</td>\n",
       "      <td>3.470373</td>\n",
       "      <td>6.504403e+06</td>\n",
       "      <td>4.095891e+06</td>\n",
       "      <td>3.707614e+05</td>\n",
       "      <td>1.874983e+06</td>\n",
       "      <td>1.874983e+06</td>\n",
       "      <td>4.818954e+05</td>\n",
       "    </tr>\n",
       "    <tr>\n",
       "      <th>min</th>\n",
       "      <td>2010.000000</td>\n",
       "      <td>1.000000</td>\n",
       "      <td>2.830990e+07</td>\n",
       "      <td>1.425885e+07</td>\n",
       "      <td>1.441656e+06</td>\n",
       "      <td>7.822305e+06</td>\n",
       "      <td>7.822305e+06</td>\n",
       "      <td>7.139290e+05</td>\n",
       "    </tr>\n",
       "    <tr>\n",
       "      <th>25%</th>\n",
       "      <td>2013.000000</td>\n",
       "      <td>3.000000</td>\n",
       "      <td>3.712288e+07</td>\n",
       "      <td>1.861799e+07</td>\n",
       "      <td>2.488796e+06</td>\n",
       "      <td>1.051600e+07</td>\n",
       "      <td>1.051600e+07</td>\n",
       "      <td>1.070125e+06</td>\n",
       "    </tr>\n",
       "    <tr>\n",
       "      <th>50%</th>\n",
       "      <td>2017.000000</td>\n",
       "      <td>6.000000</td>\n",
       "      <td>4.253971e+07</td>\n",
       "      <td>2.112881e+07</td>\n",
       "      <td>2.699705e+06</td>\n",
       "      <td>1.199862e+07</td>\n",
       "      <td>1.199862e+07</td>\n",
       "      <td>1.564510e+06</td>\n",
       "    </tr>\n",
       "    <tr>\n",
       "      <th>75%</th>\n",
       "      <td>2020.000000</td>\n",
       "      <td>9.000000</td>\n",
       "      <td>4.682949e+07</td>\n",
       "      <td>2.504776e+07</td>\n",
       "      <td>3.022539e+06</td>\n",
       "      <td>1.322621e+07</td>\n",
       "      <td>1.322621e+07</td>\n",
       "      <td>2.013225e+06</td>\n",
       "    </tr>\n",
       "    <tr>\n",
       "      <th>max</th>\n",
       "      <td>2024.000000</td>\n",
       "      <td>12.000000</td>\n",
       "      <td>5.917166e+07</td>\n",
       "      <td>3.190233e+07</td>\n",
       "      <td>3.504559e+06</td>\n",
       "      <td>1.605535e+07</td>\n",
       "      <td>1.605535e+07</td>\n",
       "      <td>2.410175e+06</td>\n",
       "    </tr>\n",
       "  </tbody>\n",
       "</table>\n",
       "</div>\n",
       "    <div class=\"colab-df-buttons\">\n",
       "\n",
       "  <div class=\"colab-df-container\">\n",
       "    <button class=\"colab-df-convert\" onclick=\"convertToInteractive('df-2c55fad9-a114-433e-b71d-1bf9d90f1cf8')\"\n",
       "            title=\"Convert this dataframe to an interactive table.\"\n",
       "            style=\"display:none;\">\n",
       "\n",
       "  <svg xmlns=\"http://www.w3.org/2000/svg\" height=\"24px\" viewBox=\"0 -960 960 960\">\n",
       "    <path d=\"M120-120v-720h720v720H120Zm60-500h600v-160H180v160Zm220 220h160v-160H400v160Zm0 220h160v-160H400v160ZM180-400h160v-160H180v160Zm440 0h160v-160H620v160ZM180-180h160v-160H180v160Zm440 0h160v-160H620v160Z\"/>\n",
       "  </svg>\n",
       "    </button>\n",
       "\n",
       "  <style>\n",
       "    .colab-df-container {\n",
       "      display:flex;\n",
       "      gap: 12px;\n",
       "    }\n",
       "\n",
       "    .colab-df-convert {\n",
       "      background-color: #E8F0FE;\n",
       "      border: none;\n",
       "      border-radius: 50%;\n",
       "      cursor: pointer;\n",
       "      display: none;\n",
       "      fill: #1967D2;\n",
       "      height: 32px;\n",
       "      padding: 0 0 0 0;\n",
       "      width: 32px;\n",
       "    }\n",
       "\n",
       "    .colab-df-convert:hover {\n",
       "      background-color: #E2EBFA;\n",
       "      box-shadow: 0px 1px 2px rgba(60, 64, 67, 0.3), 0px 1px 3px 1px rgba(60, 64, 67, 0.15);\n",
       "      fill: #174EA6;\n",
       "    }\n",
       "\n",
       "    .colab-df-buttons div {\n",
       "      margin-bottom: 4px;\n",
       "    }\n",
       "\n",
       "    [theme=dark] .colab-df-convert {\n",
       "      background-color: #3B4455;\n",
       "      fill: #D2E3FC;\n",
       "    }\n",
       "\n",
       "    [theme=dark] .colab-df-convert:hover {\n",
       "      background-color: #434B5C;\n",
       "      box-shadow: 0px 1px 3px 1px rgba(0, 0, 0, 0.15);\n",
       "      filter: drop-shadow(0px 1px 2px rgba(0, 0, 0, 0.3));\n",
       "      fill: #FFFFFF;\n",
       "    }\n",
       "  </style>\n",
       "\n",
       "    <script>\n",
       "      const buttonEl =\n",
       "        document.querySelector('#df-2c55fad9-a114-433e-b71d-1bf9d90f1cf8 button.colab-df-convert');\n",
       "      buttonEl.style.display =\n",
       "        google.colab.kernel.accessAllowed ? 'block' : 'none';\n",
       "\n",
       "      async function convertToInteractive(key) {\n",
       "        const element = document.querySelector('#df-2c55fad9-a114-433e-b71d-1bf9d90f1cf8');\n",
       "        const dataTable =\n",
       "          await google.colab.kernel.invokeFunction('convertToInteractive',\n",
       "                                                    [key], {});\n",
       "        if (!dataTable) return;\n",
       "\n",
       "        const docLinkHtml = 'Like what you see? Visit the ' +\n",
       "          '<a target=\"_blank\" href=https://colab.research.google.com/notebooks/data_table.ipynb>data table notebook</a>'\n",
       "          + ' to learn more about interactive tables.';\n",
       "        element.innerHTML = '';\n",
       "        dataTable['output_type'] = 'display_data';\n",
       "        await google.colab.output.renderOutput(dataTable, element);\n",
       "        const docLink = document.createElement('div');\n",
       "        docLink.innerHTML = docLinkHtml;\n",
       "        element.appendChild(docLink);\n",
       "      }\n",
       "    </script>\n",
       "  </div>\n",
       "\n",
       "\n",
       "<div id=\"df-52074823-94d3-410d-b1bc-b2c6435f44de\">\n",
       "  <button class=\"colab-df-quickchart\" onclick=\"quickchart('df-52074823-94d3-410d-b1bc-b2c6435f44de')\"\n",
       "            title=\"Suggest charts\"\n",
       "            style=\"display:none;\">\n",
       "\n",
       "<svg xmlns=\"http://www.w3.org/2000/svg\" height=\"24px\"viewBox=\"0 0 24 24\"\n",
       "     width=\"24px\">\n",
       "    <g>\n",
       "        <path d=\"M19 3H5c-1.1 0-2 .9-2 2v14c0 1.1.9 2 2 2h14c1.1 0 2-.9 2-2V5c0-1.1-.9-2-2-2zM9 17H7v-7h2v7zm4 0h-2V7h2v10zm4 0h-2v-4h2v4z\"/>\n",
       "    </g>\n",
       "</svg>\n",
       "  </button>\n",
       "\n",
       "<style>\n",
       "  .colab-df-quickchart {\n",
       "      --bg-color: #E8F0FE;\n",
       "      --fill-color: #1967D2;\n",
       "      --hover-bg-color: #E2EBFA;\n",
       "      --hover-fill-color: #174EA6;\n",
       "      --disabled-fill-color: #AAA;\n",
       "      --disabled-bg-color: #DDD;\n",
       "  }\n",
       "\n",
       "  [theme=dark] .colab-df-quickchart {\n",
       "      --bg-color: #3B4455;\n",
       "      --fill-color: #D2E3FC;\n",
       "      --hover-bg-color: #434B5C;\n",
       "      --hover-fill-color: #FFFFFF;\n",
       "      --disabled-bg-color: #3B4455;\n",
       "      --disabled-fill-color: #666;\n",
       "  }\n",
       "\n",
       "  .colab-df-quickchart {\n",
       "    background-color: var(--bg-color);\n",
       "    border: none;\n",
       "    border-radius: 50%;\n",
       "    cursor: pointer;\n",
       "    display: none;\n",
       "    fill: var(--fill-color);\n",
       "    height: 32px;\n",
       "    padding: 0;\n",
       "    width: 32px;\n",
       "  }\n",
       "\n",
       "  .colab-df-quickchart:hover {\n",
       "    background-color: var(--hover-bg-color);\n",
       "    box-shadow: 0 1px 2px rgba(60, 64, 67, 0.3), 0 1px 3px 1px rgba(60, 64, 67, 0.15);\n",
       "    fill: var(--button-hover-fill-color);\n",
       "  }\n",
       "\n",
       "  .colab-df-quickchart-complete:disabled,\n",
       "  .colab-df-quickchart-complete:disabled:hover {\n",
       "    background-color: var(--disabled-bg-color);\n",
       "    fill: var(--disabled-fill-color);\n",
       "    box-shadow: none;\n",
       "  }\n",
       "\n",
       "  .colab-df-spinner {\n",
       "    border: 2px solid var(--fill-color);\n",
       "    border-color: transparent;\n",
       "    border-bottom-color: var(--fill-color);\n",
       "    animation:\n",
       "      spin 1s steps(1) infinite;\n",
       "  }\n",
       "\n",
       "  @keyframes spin {\n",
       "    0% {\n",
       "      border-color: transparent;\n",
       "      border-bottom-color: var(--fill-color);\n",
       "      border-left-color: var(--fill-color);\n",
       "    }\n",
       "    20% {\n",
       "      border-color: transparent;\n",
       "      border-left-color: var(--fill-color);\n",
       "      border-top-color: var(--fill-color);\n",
       "    }\n",
       "    30% {\n",
       "      border-color: transparent;\n",
       "      border-left-color: var(--fill-color);\n",
       "      border-top-color: var(--fill-color);\n",
       "      border-right-color: var(--fill-color);\n",
       "    }\n",
       "    40% {\n",
       "      border-color: transparent;\n",
       "      border-right-color: var(--fill-color);\n",
       "      border-top-color: var(--fill-color);\n",
       "    }\n",
       "    60% {\n",
       "      border-color: transparent;\n",
       "      border-right-color: var(--fill-color);\n",
       "    }\n",
       "    80% {\n",
       "      border-color: transparent;\n",
       "      border-right-color: var(--fill-color);\n",
       "      border-bottom-color: var(--fill-color);\n",
       "    }\n",
       "    90% {\n",
       "      border-color: transparent;\n",
       "      border-bottom-color: var(--fill-color);\n",
       "    }\n",
       "  }\n",
       "</style>\n",
       "\n",
       "  <script>\n",
       "    async function quickchart(key) {\n",
       "      const quickchartButtonEl =\n",
       "        document.querySelector('#' + key + ' button');\n",
       "      quickchartButtonEl.disabled = true;  // To prevent multiple clicks.\n",
       "      quickchartButtonEl.classList.add('colab-df-spinner');\n",
       "      try {\n",
       "        const charts = await google.colab.kernel.invokeFunction(\n",
       "            'suggestCharts', [key], {});\n",
       "      } catch (error) {\n",
       "        console.error('Error during call to suggestCharts:', error);\n",
       "      }\n",
       "      quickchartButtonEl.classList.remove('colab-df-spinner');\n",
       "      quickchartButtonEl.classList.add('colab-df-quickchart-complete');\n",
       "    }\n",
       "    (() => {\n",
       "      let quickchartButtonEl =\n",
       "        document.querySelector('#df-52074823-94d3-410d-b1bc-b2c6435f44de button');\n",
       "      quickchartButtonEl.style.display =\n",
       "        google.colab.kernel.accessAllowed ? 'block' : 'none';\n",
       "    })();\n",
       "  </script>\n",
       "</div>\n",
       "\n",
       "    </div>\n",
       "  </div>\n"
      ],
      "text/plain": [
       "               Año       Meses         Total  Grandes Demandas  \\\n",
       "count   173.000000  173.000000  1.730000e+02      1.730000e+02   \n",
       "mean   2016.716763    6.398844  4.226225e+07      2.172984e+07   \n",
       "std       4.178517    3.470373  6.504403e+06      4.095891e+06   \n",
       "min    2010.000000    1.000000  2.830990e+07      1.425885e+07   \n",
       "25%    2013.000000    3.000000  3.712288e+07      1.861799e+07   \n",
       "50%    2017.000000    6.000000  4.253971e+07      2.112881e+07   \n",
       "75%    2020.000000    9.000000  4.682949e+07      2.504776e+07   \n",
       "max    2024.000000   12.000000  5.917166e+07      3.190233e+07   \n",
       "\n",
       "       Medianas Demandas  Uso Residencial   Uso General  Alumbrado Público  \n",
       "count       1.730000e+02     1.730000e+02  1.730000e+02       1.730000e+02  \n",
       "mean        2.720410e+06     1.189505e+07  1.189505e+07       1.565563e+06  \n",
       "std         3.707614e+05     1.874983e+06  1.874983e+06       4.818954e+05  \n",
       "min         1.441656e+06     7.822305e+06  7.822305e+06       7.139290e+05  \n",
       "25%         2.488796e+06     1.051600e+07  1.051600e+07       1.070125e+06  \n",
       "50%         2.699705e+06     1.199862e+07  1.199862e+07       1.564510e+06  \n",
       "75%         3.022539e+06     1.322621e+07  1.322621e+07       2.013225e+06  \n",
       "max         3.504559e+06     1.605535e+07  1.605535e+07       2.410175e+06  "
      ]
     },
     "execution_count": 21,
     "metadata": {},
     "output_type": "execute_result"
    }
   ],
   "source": [
    "dataframe.describe()"
   ]
  },
  {
   "cell_type": "code",
   "execution_count": 22,
   "id": "UUl9DCxTKtuG",
   "metadata": {
    "colab": {
     "base_uri": "https://localhost:8080/",
     "height": 1000
    },
    "id": "UUl9DCxTKtuG",
    "outputId": "536e02a3-4d03-47a6-cd23-8960ba2abbac"
   },
   "outputs": [
    {
     "data": {
      "image/png": "[encoded data removed]",
      "text/plain": [
       "<Figure size 600x300 with 1 Axes>"
      ]
     },
     "metadata": {},
     "output_type": "display_data"
    },
    {
     "data": {
      "image/png": "[encoded data removed]",
      "text/plain": [
       "<Figure size 600x300 with 1 Axes>"
      ]
     },
     "metadata": {},
     "output_type": "display_data"
    },
    {
     "data": {
      "image/png": "[encoded data removed]",
      "text/plain": [
       "<Figure size 600x300 with 1 Axes>"
      ]
     },
     "metadata": {},
     "output_type": "display_data"
    },
    {
     "data": {
      "image/png": "[encoded data removed]",
      "text/plain": [
       "<Figure size 600x300 with 1 Axes>"
      ]
     },
     "metadata": {},
     "output_type": "display_data"
    },
    {
     "data": {
      "image/png": "[encoded data removed]",
      "text/plain": [
       "<Figure size 600x300 with 1 Axes>"
      ]
     },
     "metadata": {},
     "output_type": "display_data"
    },
    {
     "data": {
      "image/png": "[encoded data removed]",
      "text/plain": [
       "<Figure size 600x300 with 1 Axes>"
      ]
     },
     "metadata": {},
     "output_type": "display_data"
    },
    {
     "data": {
      "image/png": "[encoded data removed]",
      "text/plain": [
       "<Figure size 600x300 with 1 Axes>"
      ]
     },
     "metadata": {},
     "output_type": "display_data"
    },
    {
     "data": {
      "image/png": "[encoded data removed]",
      "text/plain": [
       "<Figure size 600x300 with 1 Axes>"
      ]
     },
     "metadata": {},
     "output_type": "display_data"
    }
   ],
   "source": [
    "# Lista de columnas numéricas\n",
    "numerical_columns = dataframe.select_dtypes(include=['int64', 'float64']).columns\n",
    "\n",
    "# Crear un boxplot para cada columna numérica\n",
    "for column in numerical_columns:\n",
    "    plt.figure(figsize=(6, 3))\n",
    "    sb.boxplot(x=dataframe[column])\n",
    "    plt.title(f'Boxplot de {column}')\n",
    "    plt.xlabel(column)\n",
    "    plt.show()"
   ]
  },
  {
   "cell_type": "code",
   "execution_count": 23,
   "id": "1BTBbUBANmeY",
   "metadata": {
    "colab": {
     "base_uri": "https://localhost:8080/"
    },
    "id": "1BTBbUBANmeY",
    "outputId": "e11d0c6b-1b6f-4a7e-8670-1cadfba58762"
   },
   "outputs": [
    {
     "name": "stdout",
     "output_type": "stream",
     "text": [
      "Valores outliers en 'Medianas Demandas':\n",
      "    Medianas Demandas\n",
      "12          1441656.0\n"
     ]
    }
   ],
   "source": [
    "# Calcular los límites para identificar outliers en la columna \"Medianas Demandas\"\n",
    "Q1 = dataframe['Medianas Demandas'].quantile(0.25)\n",
    "Q3 = dataframe['Medianas Demandas'].quantile(0.75)\n",
    "IQR = Q3 - Q1\n",
    "\n",
    "# Definir los límites inferior y superior\n",
    "lower_bound = Q1 - 1.5 * IQR\n",
    "upper_bound = Q3 + 1.5 * IQR\n",
    "\n",
    "# Filtrar los valores que están fuera de estos límites\n",
    "outliers = dataframe[(dataframe['Medianas Demandas'] < lower_bound) | (dataframe['Medianas Demandas'] > upper_bound)]\n",
    "\n",
    "print(\"Valores outliers en 'Medianas Demandas':\")\n",
    "print(outliers[['Medianas Demandas']])"
   ]
  },
  {
   "cell_type": "code",
   "execution_count": 24,
   "id": "ni_6ROmwmdpM",
   "metadata": {
    "colab": {
     "base_uri": "https://localhost:8080/"
    },
    "id": "ni_6ROmwmdpM",
    "outputId": "9ae31aeb-6538-4de4-ee2c-9d5dc86d63cc"
   },
   "outputs": [
    {
     "name": "stdout",
     "output_type": "stream",
     "text": [
      "Descripción después de eliminar outliers:\n",
      "count    1.720000e+02\n",
      "mean     2.727845e+06\n",
      "std      3.586777e+05\n",
      "min      1.795497e+06\n",
      "25%      2.491352e+06\n",
      "50%      2.707694e+06\n",
      "75%      3.026122e+06\n",
      "max      3.504559e+06\n",
      "Name: Medianas Demandas, dtype: float64\n"
     ]
    }
   ],
   "source": [
    "# Eliminar filas donde 'Medianas Demandas' sea un outlier\n",
    "dataframe = dataframe.loc[(dataframe['Medianas Demandas'] >= lower_bound) & (dataframe['Medianas Demandas'] <= upper_bound)].copy()\n",
    "\n",
    "# Verificar que el outlier ha sido eliminado\n",
    "print(\"Descripción después de eliminar outliers:\")\n",
    "print(dataframe['Medianas Demandas'].describe())\n"
   ]
  },
  {
   "cell_type": "markdown",
   "id": "Bz1l6ivJ2jAy",
   "metadata": {
    "id": "Bz1l6ivJ2jAy"
   },
   "source": [
    "# **Exportar Dataframe Limpio**"
   ]
  },
  {
   "cell_type": "code",
   "execution_count": 25,
   "id": "2UlQA7Gb2hJa",
   "metadata": {
    "id": "2UlQA7Gb2hJa"
   },
   "outputs": [],
   "source": [
    "# Exportar el DataFrame limpio a un archivo Excel\n",
    "dataframe.to_excel(\"dataframe_limpio.xlsx\", index=False)"
   ]
  },
  {
   "cell_type": "code",
   "execution_count": 26,
   "id": "VR_zhQx_3Oib",
   "metadata": {
    "colab": {
     "base_uri": "https://localhost:8080/",
     "height": 17
    },
    "id": "VR_zhQx_3Oib",
    "outputId": "8008f4d8-07cf-4bd1-ed71-4516a32078ea"
   },
   "outputs": [
    {
     "data": {
      "application/javascript": "\n    async function download(id, filename, size) {\n      if (!google.colab.kernel.accessAllowed) {\n        return;\n      }\n      const div = document.createElement('div');\n      const label = document.createElement('label');\n      label.textContent = `Downloading \"${filename}\": `;\n      div.appendChild(label);\n      const progress = document.createElement('progress');\n      progress.max = size;\n      div.appendChild(progress);\n      document.body.appendChild(div);\n\n      const buffers = [];\n      let downloaded = 0;\n\n      const channel = await google.colab.kernel.comms.open(id);\n      // Send a message to notify the kernel that we're ready.\n      channel.send({})\n\n      for await (const message of channel.messages) {\n        // Send a message to notify the kernel that we're ready.\n        channel.send({})\n        if (message.buffers) {\n          for (const buffer of message.buffers) {\n            buffers.push(buffer);\n            downloaded += buffer.byteLength;\n            progress.value = downloaded;\n          }\n        }\n      }\n      const blob = new Blob(buffers, {type: 'application/binary'});\n      const a = document.createElement('a');\n      a.href = window.URL.createObjectURL(blob);\n      a.download = filename;\n      div.appendChild(a);\n      a.click();\n      div.remove();\n    }\n  ",
      "text/plain": [
       "<IPython.core.display.Javascript object>"
      ]
     },
     "metadata": {},
     "output_type": "display_data"
    },
    {
     "data": {
      "application/javascript": "download(\"download_3d62404a-1880-4af3-821a-41c9db591675\", \"dataframe_limpio.xlsx\", 14219)",
      "text/plain": [
       "<IPython.core.display.Javascript object>"
      ]
     },
     "metadata": {},
     "output_type": "display_data"
    }
   ],
   "source": [
    "from google.colab import files\n",
    "files.download(\"dataframe_limpio.xlsx\")"
   ]
  },
  {
   "cell_type": "markdown",
   "id": "oBWfoAGe4imp",
   "metadata": {
    "id": "oBWfoAGe4imp"
   },
   "source": [
    "# **Desarrollo de los Modelos**"
   ]
  },
  {
   "cell_type": "code",
   "execution_count": 27,
   "id": "KRoLJyNINy1p",
   "metadata": {
    "colab": {
     "base_uri": "https://localhost:8080/",
     "height": 300
    },
    "id": "KRoLJyNINy1p",
    "outputId": "9a21b137-fbdd-4674-d009-2b7eac992e78"
   },
   "outputs": [
    {
     "data": {
      "application/vnd.google.colaboratory.intrinsic+json": {
       "summary": "{\n  \"name\": \"correlation_matrix\",\n  \"rows\": 8,\n  \"fields\": [\n    {\n      \"column\": \"A\\u00f1o\",\n      \"properties\": {\n        \"dtype\": \"number\",\n        \"std\": 0.49214884828668476,\n        \"min\": -0.2746442427183934,\n        \"max\": 1.0,\n        \"num_unique_values\": 7,\n        \"samples\": [\n          1.0,\n          -0.06435578392291985,\n          0.760980916927451\n        ],\n        \"semantic_type\": \"\",\n        \"description\": \"\"\n      }\n    },\n    {\n      \"column\": \"Meses\",\n      \"properties\": {\n        \"dtype\": \"number\",\n        \"std\": 0.329525908937734,\n        \"min\": -0.06435578392291985,\n        \"max\": 1.0,\n        \"num_unique_values\": 7,\n        \"samples\": [\n          -0.06435578392291985,\n          1.0,\n          0.27506551928878886\n        ],\n        \"semantic_type\": \"\",\n        \"description\": \"\"\n      }\n    },\n    {\n      \"column\": \"Total\",\n      \"properties\": {\n        \"dtype\": \"number\",\n        \"std\": 0.35229803476425464,\n        \"min\": 0.17847047486389908,\n        \"max\": 1.0,\n        \"num_unique_values\": 7,\n        \"samples\": [\n          0.8158868860318297,\n          0.2014021197505314,\n          0.9338691083620877\n        ],\n        \"semantic_type\": \"\",\n        \"description\": \"\"\n      }\n    },\n    {\n      \"column\": \"Grandes Demandas\",\n      \"properties\": {\n        \"dtype\": \"number\",\n        \"std\": 0.4086790069771576,\n        \"min\": -0.008063676128066702,\n        \"max\": 1.0,\n        \"num_unique_values\": 7,\n        \"samples\": [\n          0.8609824990085113,\n          0.13596036779699386,\n          0.8159236591987878\n        ],\n        \"semantic_type\": \"\",\n        \"description\": \"\"\n      }\n    },\n    {\n      \"column\": \"Medianas Demandas\",\n      \"properties\": {\n        \"dtype\": \"number\",\n        \"std\": 0.3787231429880586,\n        \"min\": -0.2746442427183934,\n        \"max\": 1.0,\n        \"num_unique_values\": 7,\n        \"samples\": [\n          -0.2746442427183934,\n          0.22293401482451325,\n          0.19131475133389975\n        ],\n        \"semantic_type\": \"\",\n        \"description\": \"\"\n      }\n    },\n    {\n      \"column\": \"Uso Residencial\",\n      \"properties\": {\n        \"dtype\": \"number\",\n        \"std\": 0.32430277442746275,\n        \"min\": 0.19131475133389975,\n        \"max\": 1.0,\n        \"num_unique_values\": 7,\n        \"samples\": [\n          0.760980916927451,\n          0.27506551928878886,\n          1.0\n        ],\n        \"semantic_type\": \"\",\n        \"description\": \"\"\n      }\n    },\n    {\n      \"column\": \"Uso General\",\n      \"properties\": {\n        \"dtype\": \"number\",\n        \"std\": 0.32430277442746275,\n        \"min\": 0.19131475133389975,\n        \"max\": 1.0,\n        \"num_unique_values\": 7,\n        \"samples\": [\n          0.760980916927451,\n          0.27506551928878886,\n          1.0\n        ],\n        \"semantic_type\": \"\",\n        \"description\": \"\"\n      }\n    },\n    {\n      \"column\": \"Alumbrado P\\u00fablico\",\n      \"properties\": {\n        \"dtype\": \"number\",\n        \"std\": 0.3172370294870513,\n        \"min\": -0.035394541579558236,\n        \"max\": 1.0,\n        \"num_unique_values\": 7,\n        \"samples\": [\n          0.09900232416033265,\n          -0.035394541579558236,\n          0.48204989307173907\n        ],\n        \"semantic_type\": \"\",\n        \"description\": \"\"\n      }\n    }\n  ]\n}",
       "type": "dataframe",
       "variable_name": "correlation_matrix"
      },
      "text/html": [
       "\n",
       "  <div id=\"df-9acf5df3-bd9d-4bae-81f6-31950c96023c\" class=\"colab-df-container\">\n",
       "    <div>\n",
       "<style scoped>\n",
       "    .dataframe tbody tr th:only-of-type {\n",
       "        vertical-align: middle;\n",
       "    }\n",
       "\n",
       "    .dataframe tbody tr th {\n",
       "        vertical-align: top;\n",
       "    }\n",
       "\n",
       "    .dataframe thead th {\n",
       "        text-align: right;\n",
       "    }\n",
       "</style>\n",
       "<table border=\"1\" class=\"dataframe\">\n",
       "  <thead>\n",
       "    <tr style=\"text-align: right;\">\n",
       "      <th></th>\n",
       "      <th>Año</th>\n",
       "      <th>Meses</th>\n",
       "      <th>Total</th>\n",
       "      <th>Grandes Demandas</th>\n",
       "      <th>Medianas Demandas</th>\n",
       "      <th>Uso Residencial</th>\n",
       "      <th>Uso General</th>\n",
       "      <th>Alumbrado Público</th>\n",
       "    </tr>\n",
       "  </thead>\n",
       "  <tbody>\n",
       "    <tr>\n",
       "      <th>Año</th>\n",
       "      <td>1.000000</td>\n",
       "      <td>-0.064356</td>\n",
       "      <td>0.815887</td>\n",
       "      <td>0.860982</td>\n",
       "      <td>-0.274644</td>\n",
       "      <td>0.760981</td>\n",
       "      <td>0.760981</td>\n",
       "      <td>0.099002</td>\n",
       "    </tr>\n",
       "    <tr>\n",
       "      <th>Meses</th>\n",
       "      <td>-0.064356</td>\n",
       "      <td>1.000000</td>\n",
       "      <td>0.201402</td>\n",
       "      <td>0.135960</td>\n",
       "      <td>0.222934</td>\n",
       "      <td>0.275066</td>\n",
       "      <td>0.275066</td>\n",
       "      <td>-0.035395</td>\n",
       "    </tr>\n",
       "    <tr>\n",
       "      <th>Total</th>\n",
       "      <td>0.815887</td>\n",
       "      <td>0.201402</td>\n",
       "      <td>1.000000</td>\n",
       "      <td>0.954266</td>\n",
       "      <td>0.178470</td>\n",
       "      <td>0.933869</td>\n",
       "      <td>0.933869</td>\n",
       "      <td>0.428548</td>\n",
       "    </tr>\n",
       "    <tr>\n",
       "      <th>Grandes Demandas</th>\n",
       "      <td>0.860982</td>\n",
       "      <td>0.135960</td>\n",
       "      <td>0.954266</td>\n",
       "      <td>1.000000</td>\n",
       "      <td>-0.008064</td>\n",
       "      <td>0.815924</td>\n",
       "      <td>0.815924</td>\n",
       "      <td>0.229601</td>\n",
       "    </tr>\n",
       "    <tr>\n",
       "      <th>Medianas Demandas</th>\n",
       "      <td>-0.274644</td>\n",
       "      <td>0.222934</td>\n",
       "      <td>0.178470</td>\n",
       "      <td>-0.008064</td>\n",
       "      <td>1.000000</td>\n",
       "      <td>0.191315</td>\n",
       "      <td>0.191315</td>\n",
       "      <td>0.545305</td>\n",
       "    </tr>\n",
       "    <tr>\n",
       "      <th>Uso Residencial</th>\n",
       "      <td>0.760981</td>\n",
       "      <td>0.275066</td>\n",
       "      <td>0.933869</td>\n",
       "      <td>0.815924</td>\n",
       "      <td>0.191315</td>\n",
       "      <td>1.000000</td>\n",
       "      <td>1.000000</td>\n",
       "      <td>0.482050</td>\n",
       "    </tr>\n",
       "    <tr>\n",
       "      <th>Uso General</th>\n",
       "      <td>0.760981</td>\n",
       "      <td>0.275066</td>\n",
       "      <td>0.933869</td>\n",
       "      <td>0.815924</td>\n",
       "      <td>0.191315</td>\n",
       "      <td>1.000000</td>\n",
       "      <td>1.000000</td>\n",
       "      <td>0.482050</td>\n",
       "    </tr>\n",
       "    <tr>\n",
       "      <th>Alumbrado Público</th>\n",
       "      <td>0.099002</td>\n",
       "      <td>-0.035395</td>\n",
       "      <td>0.428548</td>\n",
       "      <td>0.229601</td>\n",
       "      <td>0.545305</td>\n",
       "      <td>0.482050</td>\n",
       "      <td>0.482050</td>\n",
       "      <td>1.000000</td>\n",
       "    </tr>\n",
       "  </tbody>\n",
       "</table>\n",
       "</div>\n",
       "    <div class=\"colab-df-buttons\">\n",
       "\n",
       "  <div class=\"colab-df-container\">\n",
       "    <button class=\"colab-df-convert\" onclick=\"convertToInteractive('df-9acf5df3-bd9d-4bae-81f6-31950c96023c')\"\n",
       "            title=\"Convert this dataframe to an interactive table.\"\n",
       "            style=\"display:none;\">\n",
       "\n",
       "  <svg xmlns=\"http://www.w3.org/2000/svg\" height=\"24px\" viewBox=\"0 -960 960 960\">\n",
       "    <path d=\"M120-120v-720h720v720H120Zm60-500h600v-160H180v160Zm220 220h160v-160H400v160Zm0 220h160v-160H400v160ZM180-400h160v-160H180v160Zm440 0h160v-160H620v160ZM180-180h160v-160H180v160Zm440 0h160v-160H620v160Z\"/>\n",
       "  </svg>\n",
       "    </button>\n",
       "\n",
       "  <style>\n",
       "    .colab-df-container {\n",
       "      display:flex;\n",
       "      gap: 12px;\n",
       "    }\n",
       "\n",
       "    .colab-df-convert {\n",
       "      background-color: #E8F0FE;\n",
       "      border: none;\n",
       "      border-radius: 50%;\n",
       "      cursor: pointer;\n",
       "      display: none;\n",
       "      fill: #1967D2;\n",
       "      height: 32px;\n",
       "      padding: 0 0 0 0;\n",
       "      width: 32px;\n",
       "    }\n",
       "\n",
       "    .colab-df-convert:hover {\n",
       "      background-color: #E2EBFA;\n",
       "      box-shadow: 0px 1px 2px rgba(60, 64, 67, 0.3), 0px 1px 3px 1px rgba(60, 64, 67, 0.15);\n",
       "      fill: #174EA6;\n",
       "    }\n",
       "\n",
       "    .colab-df-buttons div {\n",
       "      margin-bottom: 4px;\n",
       "    }\n",
       "\n",
       "    [theme=dark] .colab-df-convert {\n",
       "      background-color: #3B4455;\n",
       "      fill: #D2E3FC;\n",
       "    }\n",
       "\n",
       "    [theme=dark] .colab-df-convert:hover {\n",
       "      background-color: #434B5C;\n",
       "      box-shadow: 0px 1px 3px 1px rgba(0, 0, 0, 0.15);\n",
       "      filter: drop-shadow(0px 1px 2px rgba(0, 0, 0, 0.3));\n",
       "      fill: #FFFFFF;\n",
       "    }\n",
       "  </style>\n",
       "\n",
       "    <script>\n",
       "      const buttonEl =\n",
       "        document.querySelector('#df-9acf5df3-bd9d-4bae-81f6-31950c96023c button.colab-df-convert');\n",
       "      buttonEl.style.display =\n",
       "        google.colab.kernel.accessAllowed ? 'block' : 'none';\n",
       "\n",
       "      async function convertToInteractive(key) {\n",
       "        const element = document.querySelector('#df-9acf5df3-bd9d-4bae-81f6-31950c96023c');\n",
       "        const dataTable =\n",
       "          await google.colab.kernel.invokeFunction('convertToInteractive',\n",
       "                                                    [key], {});\n",
       "        if (!dataTable) return;\n",
       "\n",
       "        const docLinkHtml = 'Like what you see? Visit the ' +\n",
       "          '<a target=\"_blank\" href=https://colab.research.google.com/notebooks/data_table.ipynb>data table notebook</a>'\n",
       "          + ' to learn more about interactive tables.';\n",
       "        element.innerHTML = '';\n",
       "        dataTable['output_type'] = 'display_data';\n",
       "        await google.colab.output.renderOutput(dataTable, element);\n",
       "        const docLink = document.createElement('div');\n",
       "        docLink.innerHTML = docLinkHtml;\n",
       "        element.appendChild(docLink);\n",
       "      }\n",
       "    </script>\n",
       "  </div>\n",
       "\n",
       "\n",
       "<div id=\"df-a1a9de5f-9d50-4492-a7d9-d43a9141a527\">\n",
       "  <button class=\"colab-df-quickchart\" onclick=\"quickchart('df-a1a9de5f-9d50-4492-a7d9-d43a9141a527')\"\n",
       "            title=\"Suggest charts\"\n",
       "            style=\"display:none;\">\n",
       "\n",
       "<svg xmlns=\"http://www.w3.org/2000/svg\" height=\"24px\"viewBox=\"0 0 24 24\"\n",
       "     width=\"24px\">\n",
       "    <g>\n",
       "        <path d=\"M19 3H5c-1.1 0-2 .9-2 2v14c0 1.1.9 2 2 2h14c1.1 0 2-.9 2-2V5c0-1.1-.9-2-2-2zM9 17H7v-7h2v7zm4 0h-2V7h2v10zm4 0h-2v-4h2v4z\"/>\n",
       "    </g>\n",
       "</svg>\n",
       "  </button>\n",
       "\n",
       "<style>\n",
       "  .colab-df-quickchart {\n",
       "      --bg-color: #E8F0FE;\n",
       "      --fill-color: #1967D2;\n",
       "      --hover-bg-color: #E2EBFA;\n",
       "      --hover-fill-color: #174EA6;\n",
       "      --disabled-fill-color: #AAA;\n",
       "      --disabled-bg-color: #DDD;\n",
       "  }\n",
       "\n",
       "  [theme=dark] .colab-df-quickchart {\n",
       "      --bg-color: #3B4455;\n",
       "      --fill-color: #D2E3FC;\n",
       "      --hover-bg-color: #434B5C;\n",
       "      --hover-fill-color: #FFFFFF;\n",
       "      --disabled-bg-color: #3B4455;\n",
       "      --disabled-fill-color: #666;\n",
       "  }\n",
       "\n",
       "  .colab-df-quickchart {\n",
       "    background-color: var(--bg-color);\n",
       "    border: none;\n",
       "    border-radius: 50%;\n",
       "    cursor: pointer;\n",
       "    display: none;\n",
       "    fill: var(--fill-color);\n",
       "    height: 32px;\n",
       "    padding: 0;\n",
       "    width: 32px;\n",
       "  }\n",
       "\n",
       "  .colab-df-quickchart:hover {\n",
       "    background-color: var(--hover-bg-color);\n",
       "    box-shadow: 0 1px 2px rgba(60, 64, 67, 0.3), 0 1px 3px 1px rgba(60, 64, 67, 0.15);\n",
       "    fill: var(--button-hover-fill-color);\n",
       "  }\n",
       "\n",
       "  .colab-df-quickchart-complete:disabled,\n",
       "  .colab-df-quickchart-complete:disabled:hover {\n",
       "    background-color: var(--disabled-bg-color);\n",
       "    fill: var(--disabled-fill-color);\n",
       "    box-shadow: none;\n",
       "  }\n",
       "\n",
       "  .colab-df-spinner {\n",
       "    border: 2px solid var(--fill-color);\n",
       "    border-color: transparent;\n",
       "    border-bottom-color: var(--fill-color);\n",
       "    animation:\n",
       "      spin 1s steps(1) infinite;\n",
       "  }\n",
       "\n",
       "  @keyframes spin {\n",
       "    0% {\n",
       "      border-color: transparent;\n",
       "      border-bottom-color: var(--fill-color);\n",
       "      border-left-color: var(--fill-color);\n",
       "    }\n",
       "    20% {\n",
       "      border-color: transparent;\n",
       "      border-left-color: var(--fill-color);\n",
       "      border-top-color: var(--fill-color);\n",
       "    }\n",
       "    30% {\n",
       "      border-color: transparent;\n",
       "      border-left-color: var(--fill-color);\n",
       "      border-top-color: var(--fill-color);\n",
       "      border-right-color: var(--fill-color);\n",
       "    }\n",
       "    40% {\n",
       "      border-color: transparent;\n",
       "      border-right-color: var(--fill-color);\n",
       "      border-top-color: var(--fill-color);\n",
       "    }\n",
       "    60% {\n",
       "      border-color: transparent;\n",
       "      border-right-color: var(--fill-color);\n",
       "    }\n",
       "    80% {\n",
       "      border-color: transparent;\n",
       "      border-right-color: var(--fill-color);\n",
       "      border-bottom-color: var(--fill-color);\n",
       "    }\n",
       "    90% {\n",
       "      border-color: transparent;\n",
       "      border-bottom-color: var(--fill-color);\n",
       "    }\n",
       "  }\n",
       "</style>\n",
       "\n",
       "  <script>\n",
       "    async function quickchart(key) {\n",
       "      const quickchartButtonEl =\n",
       "        document.querySelector('#' + key + ' button');\n",
       "      quickchartButtonEl.disabled = true;  // To prevent multiple clicks.\n",
       "      quickchartButtonEl.classList.add('colab-df-spinner');\n",
       "      try {\n",
       "        const charts = await google.colab.kernel.invokeFunction(\n",
       "            'suggestCharts', [key], {});\n",
       "      } catch (error) {\n",
       "        console.error('Error during call to suggestCharts:', error);\n",
       "      }\n",
       "      quickchartButtonEl.classList.remove('colab-df-spinner');\n",
       "      quickchartButtonEl.classList.add('colab-df-quickchart-complete');\n",
       "    }\n",
       "    (() => {\n",
       "      let quickchartButtonEl =\n",
       "        document.querySelector('#df-a1a9de5f-9d50-4492-a7d9-d43a9141a527 button');\n",
       "      quickchartButtonEl.style.display =\n",
       "        google.colab.kernel.accessAllowed ? 'block' : 'none';\n",
       "    })();\n",
       "  </script>\n",
       "</div>\n",
       "\n",
       "  <div id=\"id_e4f7e491-abb2-4790-87d8-74b23ef2fdba\">\n",
       "    <style>\n",
       "      .colab-df-generate {\n",
       "        background-color: #E8F0FE;\n",
       "        border: none;\n",
       "        border-radius: 50%;\n",
       "        cursor: pointer;\n",
       "        display: none;\n",
       "        fill: #1967D2;\n",
       "        height: 32px;\n",
       "        padding: 0 0 0 0;\n",
       "        width: 32px;\n",
       "      }\n",
       "\n",
       "      .colab-df-generate:hover {\n",
       "        background-color: #E2EBFA;\n",
       "        box-shadow: 0px 1px 2px rgba(60, 64, 67, 0.3), 0px 1px 3px 1px rgba(60, 64, 67, 0.15);\n",
       "        fill: #174EA6;\n",
       "      }\n",
       "\n",
       "      [theme=dark] .colab-df-generate {\n",
       "        background-color: #3B4455;\n",
       "        fill: #D2E3FC;\n",
       "      }\n",
       "\n",
       "      [theme=dark] .colab-df-generate:hover {\n",
       "        background-color: #434B5C;\n",
       "        box-shadow: 0px 1px 3px 1px rgba(0, 0, 0, 0.15);\n",
       "        filter: drop-shadow(0px 1px 2px rgba(0, 0, 0, 0.3));\n",
       "        fill: #FFFFFF;\n",
       "      }\n",
       "    </style>\n",
       "    <button class=\"colab-df-generate\" onclick=\"generateWithVariable('correlation_matrix')\"\n",
       "            title=\"Generate code using this dataframe.\"\n",
       "            style=\"display:none;\">\n",
       "\n",
       "  <svg xmlns=\"http://www.w3.org/2000/svg\" height=\"24px\"viewBox=\"0 0 24 24\"\n",
       "       width=\"24px\">\n",
       "    <path d=\"M7,19H8.4L18.45,9,17,7.55,7,17.6ZM5,21V16.75L18.45,3.32a2,2,0,0,1,2.83,0l1.4,1.43a1.91,1.91,0,0,1,.58,1.4,1.91,1.91,0,0,1-.58,1.4L9.25,21ZM18.45,9,17,7.55Zm-12,3A5.31,5.31,0,0,0,4.9,8.1,5.31,5.31,0,0,0,1,6.5,5.31,5.31,0,0,0,4.9,4.9,5.31,5.31,0,0,0,6.5,1,5.31,5.31,0,0,0,8.1,4.9,5.31,5.31,0,0,0,12,6.5,5.46,5.46,0,0,0,6.5,12Z\"/>\n",
       "  </svg>\n",
       "    </button>\n",
       "    <script>\n",
       "      (() => {\n",
       "      const buttonEl =\n",
       "        document.querySelector('#id_e4f7e491-abb2-4790-87d8-74b23ef2fdba button.colab-df-generate');\n",
       "      buttonEl.style.display =\n",
       "        google.colab.kernel.accessAllowed ? 'block' : 'none';\n",
       "\n",
       "      buttonEl.onclick = () => {\n",
       "        google.colab.notebook.generateWithVariable('correlation_matrix');\n",
       "      }\n",
       "      })();\n",
       "    </script>\n",
       "  </div>\n",
       "\n",
       "    </div>\n",
       "  </div>\n"
      ],
      "text/plain": [
       "                        Año     Meses     Total  Grandes Demandas  \\\n",
       "Año                1.000000 -0.064356  0.815887          0.860982   \n",
       "Meses             -0.064356  1.000000  0.201402          0.135960   \n",
       "Total              0.815887  0.201402  1.000000          0.954266   \n",
       "Grandes Demandas   0.860982  0.135960  0.954266          1.000000   \n",
       "Medianas Demandas -0.274644  0.222934  0.178470         -0.008064   \n",
       "Uso Residencial    0.760981  0.275066  0.933869          0.815924   \n",
       "Uso General        0.760981  0.275066  0.933869          0.815924   \n",
       "Alumbrado Público  0.099002 -0.035395  0.428548          0.229601   \n",
       "\n",
       "                   Medianas Demandas  Uso Residencial  Uso General  \\\n",
       "Año                        -0.274644         0.760981     0.760981   \n",
       "Meses                       0.222934         0.275066     0.275066   \n",
       "Total                       0.178470         0.933869     0.933869   \n",
       "Grandes Demandas           -0.008064         0.815924     0.815924   \n",
       "Medianas Demandas           1.000000         0.191315     0.191315   \n",
       "Uso Residencial             0.191315         1.000000     1.000000   \n",
       "Uso General                 0.191315         1.000000     1.000000   \n",
       "Alumbrado Público           0.545305         0.482050     0.482050   \n",
       "\n",
       "                   Alumbrado Público  \n",
       "Año                         0.099002  \n",
       "Meses                      -0.035395  \n",
       "Total                       0.428548  \n",
       "Grandes Demandas            0.229601  \n",
       "Medianas Demandas           0.545305  \n",
       "Uso Residencial             0.482050  \n",
       "Uso General                 0.482050  \n",
       "Alumbrado Público           1.000000  "
      ]
     },
     "execution_count": 27,
     "metadata": {},
     "output_type": "execute_result"
    }
   ],
   "source": [
    "# Calcular la matriz de correlación\n",
    "correlation_matrix = dataframe.corr()\n",
    "correlation_matrix"
   ]
  },
  {
   "cell_type": "markdown",
   "id": "VhY35jHkntSs",
   "metadata": {
    "id": "VhY35jHkntSs"
   },
   "source": [
    "Se implementa un análisis de regresión utilizando seis modelos de Aprendizaje Automático: Regresión Lineal, Random Forest, XGBoost, K-Nearest Neighbors (K-NN), Gradient Boosting (GBP) y Support Vector Regressor (SVR). El objetivo es predecir el consumo total de energía eléctrica en Tierra del Fuego utilizando variables predictoras como el año y diferentes tipos de demanda (Grandes Demandas, Uso Residencial y Uso General). A partir de los resultados obtenidos de la matriz de correlación, se comparan las métricas de evaluación de cada modelo para identificar el que ofrece el mejor rendimiento en términos de precisión y ajuste a los datos."
   ]
  },
  {
   "cell_type": "code",
   "execution_count": 28,
   "id": "PT02O8bWQiqr",
   "metadata": {
    "colab": {
     "base_uri": "https://localhost:8080/"
    },
    "id": "PT02O8bWQiqr",
    "outputId": "e576953c-1a48-4858-ec4b-cc0c4ad69869"
   },
   "outputs": [
    {
     "name": "stdout",
     "output_type": "stream",
     "text": [
      "Linear Regression Performance:\n",
      "MAE: 593311.0199298171\n",
      "MSE: 509935476251.8032\n",
      "R2 Score: 0.9871501765878316\n",
      "------------------------------\n",
      "Random Forest Performance:\n",
      "MAE: 771443.9177782839\n",
      "MSE: 950467966355.1423\n",
      "R2 Score: 0.9760492334905612\n",
      "------------------------------\n",
      "XGBoost Performance:\n",
      "MAE: 954526.1400571429\n",
      "MSE: 1294538785682.2852\n",
      "R2 Score: 0.9673790203449067\n",
      "------------------------------\n"
     ]
    }
   ],
   "source": [
    "from sklearn.model_selection import train_test_split\n",
    "from sklearn.linear_model import LinearRegression\n",
    "from sklearn.ensemble import RandomForestRegressor\n",
    "from sklearn.metrics import mean_absolute_error, mean_squared_error, r2_score\n",
    "import xgboost as xgb\n",
    "import pandas as pd\n",
    "\n",
    "# Preparar datos (suponiendo que 'dataframe' es tu DataFrame con los datos limpios)\n",
    "X = dataframe[['Año', 'Grandes Demandas', 'Uso Residencial', 'Uso General']]  # Variables predictoras\n",
    "y = dataframe['Total']  # Variable objetivo\n",
    "\n",
    "# Dividir en conjuntos de entrenamiento y prueba\n",
    "X_train, X_test, y_train, y_test = train_test_split(X, y, test_size=0.2, random_state=42)\n",
    "\n",
    "# Entrenar modelos\n",
    "models = {\n",
    "    'Linear Regression': LinearRegression(),\n",
    "    'Random Forest': RandomForestRegressor(),\n",
    "    'XGBoost': xgb.XGBRegressor()\n",
    "}\n",
    "\n",
    "for name, model in models.items():\n",
    "    model.fit(X_train, y_train)\n",
    "    y_pred = model.predict(X_test)\n",
    "\n",
    "    print(f\"{name} Performance:\")\n",
    "    print(\"MAE:\", mean_absolute_error(y_test, y_pred))\n",
    "    print(\"MSE:\", mean_squared_error(y_test, y_pred))\n",
    "    print(\"R2 Score:\", r2_score(y_test, y_pred))\n",
    "    print(\"-\" * 30)\n"
   ]
  },
  {
   "cell_type": "code",
   "execution_count": 29,
   "id": "N1zor1EwkdvN",
   "metadata": {
    "colab": {
     "base_uri": "https://localhost:8080/"
    },
    "id": "N1zor1EwkdvN",
    "outputId": "5fb42e6b-5b62-4738-81ac-2325824893a2"
   },
   "outputs": [
    {
     "name": "stdout",
     "output_type": "stream",
     "text": [
      "KNN Performance:\n",
      "MAE: 896625.4733071433\n",
      "MSE: 1325128449014.1055\n",
      "R2 Score: 0.9666081938573269\n",
      "------------------------------\n"
     ]
    }
   ],
   "source": [
    "from sklearn.neighbors import KNeighborsRegressor\n",
    "\n",
    "# Crear el modelo\n",
    "knn_model = KNeighborsRegressor(n_neighbors=4)\n",
    "\n",
    "# Entrenar el modelo\n",
    "knn_model.fit(X_train, y_train)\n",
    "\n",
    "# Predecir\n",
    "y_pred_knn = knn_model.predict(X_test)\n",
    "\n",
    "# Evaluar el modelo\n",
    "print(\"KNN Performance:\")\n",
    "print(\"MAE:\", mean_absolute_error(y_test, y_pred_knn))\n",
    "print(\"MSE:\", mean_squared_error(y_test, y_pred_knn))\n",
    "print(\"R2 Score:\", r2_score(y_test, y_pred_knn))\n",
    "print(\"-\" * 30)\n"
   ]
  },
  {
   "cell_type": "code",
   "execution_count": 30,
   "id": "n9xmKKZdkh5L",
   "metadata": {
    "colab": {
     "base_uri": "https://localhost:8080/"
    },
    "id": "n9xmKKZdkh5L",
    "outputId": "f9bc0ee2-7e44-44b0-87b3-2f6bf201f245"
   },
   "outputs": [
    {
     "name": "stdout",
     "output_type": "stream",
     "text": [
      "Gradient Boosting Performance:\n",
      "MAE: 804154.6992162261\n",
      "MSE: 973322234764.9203\n",
      "R2 Score: 0.9754733306029281\n",
      "------------------------------\n"
     ]
    }
   ],
   "source": [
    "from sklearn.ensemble import GradientBoostingRegressor\n",
    "\n",
    "# Crear el modelo\n",
    "gb_model = GradientBoostingRegressor()\n",
    "\n",
    "# Entrenar el modelo\n",
    "gb_model.fit(X_train, y_train)\n",
    "\n",
    "# Predecir\n",
    "y_pred_gb = gb_model.predict(X_test)\n",
    "\n",
    "# Evaluar el modelo\n",
    "print(\"Gradient Boosting Performance:\")\n",
    "print(\"MAE:\", mean_absolute_error(y_test, y_pred_gb))\n",
    "print(\"MSE:\", mean_squared_error(y_test, y_pred_gb))\n",
    "print(\"R2 Score:\", r2_score(y_test, y_pred_gb))\n",
    "print(\"-\" * 30)\n"
   ]
  },
  {
   "cell_type": "code",
   "execution_count": 31,
   "id": "0_Pq2V_xzu_b",
   "metadata": {
    "colab": {
     "base_uri": "https://localhost:8080/"
    },
    "id": "0_Pq2V_xzu_b",
    "outputId": "e2e77730-57c4-492e-e887-b2f2984a4666"
   },
   "outputs": [
    {
     "name": "stdout",
     "output_type": "stream",
     "text": [
      "SVR Performance:\n",
      "MAE: 5426058.081412174\n",
      "MSE: 41082866774206.5\n",
      "R2 Score: -0.035243884568483264\n",
      "------------------------------\n"
     ]
    }
   ],
   "source": [
    "from sklearn.svm import SVR\n",
    "\n",
    "# Crear el modelo\n",
    "svr_model = SVR()\n",
    "\n",
    "# Entrenar el modelo\n",
    "svr_model.fit(X_train, y_train)\n",
    "\n",
    "# Predecir\n",
    "y_pred_svr = svr_model.predict(X_test)\n",
    "\n",
    "# Evaluar el modelo\n",
    "print(\"SVR Performance:\")\n",
    "print(\"MAE:\", mean_absolute_error(y_test, y_pred_svr))\n",
    "print(\"MSE:\", mean_squared_error(y_test, y_pred_svr))\n",
    "print(\"R2 Score:\", r2_score(y_test, y_pred_svr))\n",
    "print(\"-\" * 30)\n"
   ]
  },
  {
   "cell_type": "markdown",
   "id": "KdWykOjwLLMJ",
   "metadata": {
    "id": "KdWykOjwLLMJ"
   },
   "source": [
    "# **Guardar el Mejor Modelo Entrenado**"
   ]
  },
  {
   "cell_type": "code",
   "execution_count": 38,
   "id": "IKCQQch5LSeL",
   "metadata": {
    "colab": {
     "base_uri": "https://localhost:8080/"
    },
    "id": "IKCQQch5LSeL",
    "outputId": "7b8e07c9-7870-4553-f996-b8124879ec99"
   },
   "outputs": [
    {
     "name": "stdout",
     "output_type": "stream",
     "text": [
      "Drive already mounted at /content/drive; to attempt to forcibly remount, call drive.mount(\"/content/drive\", force_remount=True).\n",
      "Modelo guardado exitosamente.\n"
     ]
    }
   ],
   "source": [
    "import joblib\n",
    "\n",
    "# Mejor modelo entrenado \"Linear Regression\"\n",
    "best_model = models['Linear Regression']\n",
    "\n",
    "from google.colab import drive\n",
    "drive.mount('/content/drive')\n",
    "joblib.dump(best_model, '/content/drive/My Drive/dataframe_entrenado.pkl')\n",
    "print(\"Modelo guardado exitosamente.\")"
   ]
  },
  {
   "cell_type": "markdown",
   "id": "02e4ab63",
   "metadata": {},
   "source": [
    "Gráfico de Predicciones vs. Valores Reales\n",
    "\n",
    "Un gráfico de dispersión (scatter plot) que compare las predicciones del modelo con los valores reales (y_test) es útil para ver cómo se comporta el modelo."
   ]
  },
  {
   "cell_type": "code",
   "execution_count": 39,
   "id": "AqOukrYkUVWT",
   "metadata": {
    "colab": {
     "base_uri": "https://localhost:8080/",
     "height": 564
    },
    "id": "AqOukrYkUVWT",
    "outputId": "5e8fa66a-8e24-48fd-8265-07e5f08bb253"
   },
   "outputs": [
    {
     "data": {
      "image/png": "[encoded data removed]",
      "text/plain": [
       "<Figure size 800x600 with 1 Axes>"
      ]
     },
     "metadata": {},
     "output_type": "display_data"
    }
   ],
   "source": [
    "import matplotlib.pyplot as plt\n",
    "\n",
    "# Realizar predicciones con el mejor modelo\n",
    "y_pred = best_model.predict(X_test)\n",
    "\n",
    "# Graficar Predicciones vs Reales\n",
    "plt.figure(figsize=(8,6))\n",
    "plt.scatter(y_test, y_pred, alpha=0.5)\n",
    "plt.plot([y_test.min(), y_test.max()], [y_test.min(), y_test.max()], '--r', lw=2)\n",
    "plt.xlabel('Valores Reales')\n",
    "plt.ylabel('Predicciones')\n",
    "plt.title('Predicciones vs Valores Reales')\n",
    "plt.grid(True)\n",
    "plt.show()"
   ]
  },
  {
   "cell_type": "markdown",
   "id": "4279fb78",
   "metadata": {},
   "source": [
    "Curva de Aprendizaje\n",
    "\n",
    "Una curva de aprendizaje muestra cómo mejora el rendimiento del modelo a medida que se ajustan más datos o más tiempo de entrenamiento. Es especialmente útil para evaluar si el modelo está sobreajustando o no."
   ]
  },
  {
   "cell_type": "code",
   "execution_count": 42,
   "id": "OdKrwN6ZU3eN",
   "metadata": {
    "colab": {
     "base_uri": "https://localhost:8080/",
     "height": 564
    },
    "id": "OdKrwN6ZU3eN",
    "outputId": "2f51d09a-bf72-4266-cae4-2152c57a0458"
   },
   "outputs": [
    {
     "data": {
      "image/png": "[encoded data removed]",
      "text/plain": [
       "<Figure size 800x600 with 1 Axes>"
      ]
     },
     "metadata": {},
     "output_type": "display_data"
    }
   ],
   "source": [
    "from sklearn.model_selection import learning_curve\n",
    "\n",
    "# Obtener la curva de aprendizaje\n",
    "train_sizes, train_scores, test_scores = learning_curve(best_model, X_train, y_train, cv=5)\n",
    "\n",
    "# Graficar la curva de aprendizaje\n",
    "plt.figure(figsize=(8,6))\n",
    "plt.plot(train_sizes, train_scores.mean(axis=1), label='Entrenamiento', color='blue')\n",
    "plt.plot(train_sizes, test_scores.mean(axis=1), label='Prueba', color='red')\n",
    "plt.title('Curva de Aprendizaje')\n",
    "plt.xlabel('Tamaño de los Datos de Entrenamiento')\n",
    "plt.ylabel('Puntaje')\n",
    "plt.legend()\n",
    "plt.grid(True)\n",
    "plt.show()\n"
   ]
  },
  {
   "cell_type": "code",
   "execution_count": 43,
   "id": "4uQHZPS3VMD_",
   "metadata": {
    "colab": {
     "base_uri": "https://localhost:8080/",
     "height": 564
    },
    "id": "4uQHZPS3VMD_",
    "outputId": "f738b5e5-3879-481c-e11c-739fe1371a25"
   },
   "outputs": [
    {
     "data": {
      "image/png": "[encoded data removed]",
      "text/plain": [
       "<Figure size 800x600 with 1 Axes>"
      ]
     },
     "metadata": {},
     "output_type": "display_data"
    }
   ],
   "source": [
    "# Calcular los errores residuales\n",
    "residuals = y_test - y_pred\n",
    "\n",
    "# Graficar los residuos\n",
    "plt.figure(figsize=(8,6))\n",
    "plt.scatter(y_pred, residuals, alpha=0.5)\n",
    "plt.axhline(y=0, color='r', linestyle='--')\n",
    "plt.xlabel('Predicciones')\n",
    "plt.ylabel('Errores residuales')\n",
    "plt.title('Gráfico de Residuos')\n",
    "plt.grid(True)\n",
    "plt.show()\n"
   ]
  },
  {
   "cell_type": "markdown",
   "id": "8cbee7b9",
   "metadata": {},
   "source": [
    "Histograma de Errores\n",
    "\n",
    "Un histograma que muestra la distribución de los errores es útil para ver si los errores siguen una distribución normal o si hay algún sesgo en los resultados."
   ]
  },
  {
   "cell_type": "code",
   "execution_count": 44,
   "id": "jbWvfR0yVTdS",
   "metadata": {
    "colab": {
     "base_uri": "https://localhost:8080/",
     "height": 564
    },
    "id": "jbWvfR0yVTdS",
    "outputId": "2a846217-5f0d-4ad2-ae84-715dbb9bbcba"
   },
   "outputs": [
    {
     "data": {
      "image/png": "[encoded data removed]",
      "text/plain": [
       "<Figure size 800x600 with 1 Axes>"
      ]
     },
     "metadata": {},
     "output_type": "display_data"
    }
   ],
   "source": [
    "# Graficar el histograma de errores\n",
    "plt.figure(figsize=(8,6))\n",
    "plt.hist(residuals, bins=30, color='blue', alpha=0.7)\n",
    "plt.title('Distribución de Errores')\n",
    "plt.xlabel('Error Residual')\n",
    "plt.ylabel('Frecuencia')\n",
    "plt.grid(True)\n",
    "plt.show()\n"
   ]
  },
  {
   "cell_type": "markdown",
   "id": "7ddb6347",
   "metadata": {},
   "source": [
    "Interpretación de Coeficientes de Regresión Lineal\n",
    "\n",
    "Para entender qué variables tienen un mayor impacto en el consumo energético, podemos visualizar los coeficientes de la Regresión Lineal."
   ]
  },
  {
   "cell_type": "code",
   "execution_count": 32,
   "id": "gh6hsnQQ18CR",
   "metadata": {
    "colab": {
     "base_uri": "https://localhost:8080/",
     "height": 488
    },
    "id": "gh6hsnQQ18CR",
    "outputId": "57d498e3-fc72-4680-f1a1-1de858d6133f"
   },
   "outputs": [
    {
     "data": {
      "image/png": "[encoded data removed]",
      "text/plain": [
       "<Figure size 800x500 with 1 Axes>"
      ]
     },
     "metadata": {},
     "output_type": "display_data"
    }
   ],
   "source": [
    "from sklearn.preprocessing import StandardScaler\n",
    "\n",
    "# Escalar los datos\n",
    "scaler = StandardScaler()\n",
    "X_scaled = scaler.fit_transform(X)\n",
    "\n",
    "# Entrenar nuevamente el modelo de Regresión Lineal con datos escalados\n",
    "linear_model = LinearRegression()\n",
    "linear_model.fit(X_scaled, y)\n",
    "\n",
    "# Obtener los coeficientes\n",
    "coefficients = pd.DataFrame({\n",
    "    'Feature': X.columns,\n",
    "    'Coefficient': linear_model.coef_\n",
    "})\n",
    "\n",
    "# Graficar los coeficientes\n",
    "plt.figure(figsize=(8, 5))\n",
    "plt.barh(coefficients['Feature'], coefficients['Coefficient'])\n",
    "plt.xlabel('Valor del Coeficiente')\n",
    "plt.ylabel('Características')\n",
    "plt.title('Importancia de las Características en la Regresión Lineal (Datos Escalados)')\n",
    "plt.grid()\n",
    "plt.show()\n"
   ]
  },
  {
   "cell_type": "markdown",
   "id": "DxTwRo5rdRAr",
   "metadata": {
    "id": "DxTwRo5rdRAr"
   },
   "source": [
    "Visualización de la Tendencia de Consumo a lo Largo del Tiempo\n",
    "\n",
    "Para verificar si existe una tendencia de crecimiento o decrecimiento en el consumo energético a lo largo de los años, puedes usar una gráfica de línea con los datos originales o con las predicciones del modelo."
   ]
  },
  {
   "cell_type": "code",
   "execution_count": 33,
   "id": "_WtJkj38dPOr",
   "metadata": {
    "colab": {
     "base_uri": "https://localhost:8080/",
     "height": 488
    },
    "id": "_WtJkj38dPOr",
    "outputId": "b362d3e1-5346-42b4-8162-b5b03d0eca17"
   },
   "outputs": [
    {
     "data": {
      "image/png": "[encoded data removed]",
      "text/plain": [
       "<Figure size 1000x500 with 1 Axes>"
      ]
     },
     "metadata": {},
     "output_type": "display_data"
    }
   ],
   "source": [
    "# Visualización de la tendencia de consumo a lo largo de los años\n",
    "plt.figure(figsize=(10, 5))\n",
    "plt.plot(dataframe['Año'], dataframe['Total'], marker='o', linestyle='-', color='b')\n",
    "plt.xlabel('Año')\n",
    "plt.ylabel('Consumo Total')\n",
    "plt.title('Tendencia de Consumo Energético en Tierra del Fuego')\n",
    "plt.grid()\n",
    "plt.show()\n"
   ]
  },
  {
   "cell_type": "markdown",
   "id": "s53IHC6Vl36U",
   "metadata": {
    "id": "s53IHC6Vl36U"
   },
   "source": [
    "---\n",
    "## Resultados:\n",
    "***R² Score (Coeficiente de Determinación):***\n",
    "- Linear Regression: 0.9871\n",
    "- Random Forest: 0.9770\n",
    "- XGBoost: 0.9673\n",
    "- KNN: 0.9702\n",
    "- Gradient Boosting: 0.9707\n",
    "- SVR: -0.00086\n",
    "\n",
    "------------------------------\n",
    "\n",
    "***MAE (Mean Absolute Error):***\n",
    "- Linear Regression: 593311\n",
    "- Random Forest: 753411\n",
    "- XGBoost: 954526\n",
    "- KNN: 972831\n",
    "- Gradient Boosting: 964853\n",
    "- SVR: 5313085\n",
    "\n",
    "***MSE (Mean Squared Error):***\n",
    "- Linear Regression: 509935476251.80\n",
    "- Random Forest: 908937827897.05\n",
    "- XGBoost: 1294538785682.28\n",
    "- KNN: 1295405283402.43\n",
    "- Gradient Boosting: 1274124230904.82\n",
    "- SVR: 43627417287942.08\n",
    "\n",
    "---\n",
    "\n",
    "El **R² Score** mide la proporción de la varianza de la variable dependiente que se explica por el modelo. Un valor cercano a 1 indica un modelo muy bueno. En este caso, Linear Regression tiene el R² Score más alto (0.9946), lo que significa que es el modelo que mejor ajusta los datos.\n",
    "\n",
    "\n",
    "\n",
    "El **MAE** mide el error promedio entre las predicciones y los valores reales. Mientras menor sea el MAE, mejor es el modelo en términos de precisión. En este caso, Linear Regression tiene el MAE más bajo (369930), lo que indica que es el modelo con el menor error absoluto en sus predicciones.\n",
    "\n",
    "\n",
    "\n",
    "El **MSE** penaliza los errores grandes al elevarlos al cuadrado, por lo que un valor más bajo indica un mejor ajuste. Linear Regression también tiene el MSE más bajo, lo que refuerza aún más su rendimiento superior en comparación con los demás modelos.\n",
    "\n",
    "---\n",
    "\n",
    "***Otros Modelos***\n",
    "\n",
    "SVR (Support Vector Regression) muestra un rendimiento significativamente peor, con un R² Score negativo (-0.00086), lo que indica que el modelo no ha logrado capturar ninguna relación significativa en los datos, por lo que debe ser descartado en este caso.\n",
    "\n",
    "KNN (K-Nearest Neighbors) y Gradient Boosting son modelos competentes, pero no superan el rendimiento de Linear Regression en cuanto a las métricas de error y el R² Score.\n",
    "\n",
    "---"
   ]
  },
  {
   "cell_type": "markdown",
   "id": "Z8j1zaO36A-h",
   "metadata": {
    "id": "Z8j1zaO36A-h"
   },
   "source": [
    "1. ¿Es posible predecir con precisión el consumo de energía eléctrica en Tierra del Fuego utilizando técnicas de aprendizaje automático?\n",
    "\n",
    "Sí, es posible predecir el consumo de energía eléctrica con buena precisión. El mejor rendimiento lo obtuvo el modelo de Regresión Lineal, con un R² de 0.987, lo que indica que el modelo explica el 98.7% de la variabilidad en el consumo total de energía. Aunque otros modelos como Random Forest y XGBoost también mostraron resultados aceptables, la Regresión Lineal destacó como el modelo más preciso.\n",
    "\n",
    "---\n",
    "\n",
    "2. ¿Qué características, como tipo de usuario y periodo, tienen mayor impacto en el consumo de energía eléctrica?\n",
    "\n",
    "En este análisis, las características utilizadas fueron:\n",
    "\n",
    "- Grandes Demandas\n",
    "- Uso Residencial\n",
    "- Uso General\n",
    "- Año (con un impacto negativo)\n",
    "\n",
    "De acuerdo con los coeficientes del modelo de Regresión Lineal, Grandes Demandas fue la característica con mayor influencia positiva en el consumo total de energía, seguida por Uso Residencial y Uso General. Sin embargo, se observó un coeficiente negativo para la variable Año, lo que indica una posible tendencia a la baja en el consumo a medida que pasan los años, después de un período de crecimiento.\n",
    "\n",
    "---\n",
    "\n",
    "3. ¿Existen tendencias de crecimiento o decrecimiento en el consumo energético a lo largo de los años?\n",
    "\n",
    "Según la visualización de la tendencia de consumo de energía eléctrica en Tierra del Fuego, se observa una tendencia general al crecimiento a lo largo de los años. Aunque hay periodos donde el consumo disminuye, estas bajas son temporales y no afectan la tendencia alcista predominante. El pico histórico de consumo se alcanzó en el año 2022, lo cual podría estar asociado a factores específicos como condiciones climáticas extremas, un aumento en la actividad industrial o cambios en el comportamiento de los usuarios.\n",
    "\n",
    "---\n",
    "\n",
    "4. ¿Cuál es el rendimiento comparativo de diferentes algoritmos de aprendizaje automático en la predicción de consumo de energía eléctrica por tipo de usuario?\n",
    "Los modelos evaluados mostraron el siguiente rendimiento:\n",
    "\n",
    "Regresión Lineal fue el mejor, con un R² de 0.987, un MAE más bajo de 593,311, y un MSE de 509,935,476,251.\n",
    "Random Forest también mostró un buen rendimiento, pero con un R² más bajo (0.977) y un mayor MAE (753,412).\n",
    "XGBoost y Gradient Boosting presentaron resultados similares con R² cercanos a 0.97, pero con mayor error absoluto (MAE) comparado con la Regresión Lineal.\n",
    "KNN tuvo un rendimiento similar al de XGBoost, pero levemente inferior.\n",
    "SVR fue el peor modelo, con un R² negativo, lo que indica que no fue capaz de capturar la relación entre las variables predictoras y el consumo total.\n",
    "\n",
    "---\n",
    "\n",
    "\n",
    "\n",
    "\n",
    "\n"
   ]
  }
 ],
 "metadata": {
  "colab": {
   "include_colab_link": true,
   "provenance": []
  },
  "kernelspec": {
   "display_name": "Python 3 (ipykernel)",
   "language": "python",
   "name": "python3"
  },
  "language_info": {
   "codemirror_mode": {
    "name": "ipython",
    "version": 3
   },
   "file_extension": ".py",
   "mimetype": "text/x-python",
   "name": "python",
   "nbconvert_exporter": "python",
   "pygments_lexer": "ipython3",
   "version": "3.12.4"
  }
 },
 "nbformat": 4,
 "nbformat_minor": 5
}
